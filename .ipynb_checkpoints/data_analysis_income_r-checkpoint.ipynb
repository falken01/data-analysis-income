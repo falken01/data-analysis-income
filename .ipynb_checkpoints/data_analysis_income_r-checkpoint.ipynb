{
 "cells": [
  {
   "cell_type": "markdown",
   "id": "d58af6b2",
   "metadata": {},
   "source": [
    "## Mariusz Mańka, Michał Hutnik\n",
    "## Informatyka - niestajconarnie - V semestr \n",
    "## Wydział Matematyki Stosowanej\n",
    "## Przedmiot: Języki Skryptowe w Analizie Danych\n",
    "## Projekt Grupowy - Python"
   ]
  },
  {
   "cell_type": "markdown",
   "id": "ac62140f",
   "metadata": {},
   "source": [
    "# Analiza przychodów wraz ze szczególnym rozróżnieniem czy dana osoba zarabia więcej niż 50 000 USD rocznie oraz do jakich grup społecznych należy.\n",
    "**Dane w formacie CSV, użyte w tej analizie pochodzą ze strony: https://www.kaggle.com/uciml/adult-census-income  \n",
    "oraz badają czy dana osoba zarabia powyżej 50 000 USD rocznie oraz jakie spełnia przy tym warunki.**\n",
    "\n",
    "## Cel analizy:\n",
    "Celem naszej analizy jest ustalenie do jakich grup należą oraz jakie warunki najczęściej spełniają osoby zarabiajace powyżej 50 000 rocznie. Chcemy ustalić przybliżony profil takiej osoby.\n",
    "\n",
    "\n",
    "### Opis kolumn:\n",
    "- **age** - `int64` - Wiek badanej osoby\n",
    "- **workclass** - `string`- Forma zatrudnienia badanej osoby\n",
    "- **fnlwgt** - `int64` - Szacowana liczba osób, które reprezentuje każdy wiersz danych (liczba osób o podobnym zestawie cech)\n",
    "- **education** - `string` - Zdobyte wykształcenie\n",
    "- **educational-num** - `int64` - Lata nauki\n",
    "- **marital-status** - `string` - Stan cywilny\n",
    "- **occupation** - `string` - Zawód wykonywany przez badaną osobę\n",
    "- **relationship** - `string` - Relacje rodzinne badanej osoby\n",
    "- **race** - `string` - Rasa\n",
    "- **gender** - `string` - Płeć\n",
    "- **capital-gain** - `int64` - Zysk kapitałowy\n",
    "- **capital-loss** - `int64` - Strata kapitału\n",
    "- **hours-per-week** - `int64` - Godziny pracy w tygodniu\n",
    "- **native-country** - `string` - Kraj ojczysty\n",
    "- **income_>50K** - `int64` - Informacja czy badana osoba osiągnęła zysk powyżej 50 000.\n",
    " \n"
   ]
  },
  {
   "cell_type": "markdown",
   "id": "1b4e30a7",
   "metadata": {},
   "source": [
    "# Import niezbędnych bibliotek"
   ]
  },
  {
   "cell_type": "code",
   "execution_count": 1,
   "id": "af941fd1",
   "metadata": {},
   "outputs": [
    {
     "name": "stderr",
     "output_type": "stream",
     "text": [
      "also installing the dependencies 'ellipsis', 'glue', 'lifecycle', 'rlang', 'tibble', 'tidyselect', 'vctrs', 'pillar'\n",
      "\n"
     ]
    },
    {
     "name": "stdout",
     "output_type": "stream",
     "text": [
      "\n",
      "  There are binary versions available but the source versions are later:\n",
      "          binary source needs_compilation\n",
      "glue       1.4.2  1.6.0              TRUE\n",
      "lifecycle  1.0.0  1.0.1             FALSE\n",
      "rlang     0.4.11 0.4.12              TRUE\n",
      "tibble     3.1.1  3.1.6              TRUE\n",
      "pillar     1.6.0  1.6.4             FALSE\n",
      "dplyr      1.0.6  1.0.7              TRUE\n",
      "\n",
      "  Binaries will be installed\n",
      "package 'ellipsis' successfully unpacked and MD5 sums checked\n",
      "package 'glue' successfully unpacked and MD5 sums checked\n",
      "package 'rlang' successfully unpacked and MD5 sums checked\n",
      "package 'tibble' successfully unpacked and MD5 sums checked\n",
      "package 'tidyselect' successfully unpacked and MD5 sums checked\n",
      "package 'vctrs' successfully unpacked and MD5 sums checked\n",
      "package 'dplyr' successfully unpacked and MD5 sums checked\n",
      "\n",
      "The downloaded binary packages are in\n",
      "\tC:\\Users\\Praca.DESKTOP-4QI64LL\\AppData\\Local\\Temp\\RtmpCKv47L\\downloaded_packages\n"
     ]
    },
    {
     "name": "stderr",
     "output_type": "stream",
     "text": [
      "installing the source packages 'lifecycle', 'pillar'\n",
      "\n"
     ]
    }
   ],
   "source": [
    "install.packages(\"dplyr\")\n"
   ]
  },
  {
   "cell_type": "code",
   "execution_count": 3,
   "id": "634cf08c",
   "metadata": {},
   "outputs": [
    {
     "name": "stdout",
     "output_type": "stream",
     "text": [
      "\n",
      "  There is a binary version available but the source version is later:\n",
      "         binary source needs_compilation\n",
      "corrplot   0.88   0.92             FALSE\n",
      "\n"
     ]
    },
    {
     "name": "stderr",
     "output_type": "stream",
     "text": [
      "installing the source package 'corrplot'\n",
      "\n"
     ]
    }
   ],
   "source": [
    "install.packages(\"corrplot\")"
   ]
  },
  {
   "cell_type": "code",
   "execution_count": 4,
   "id": "d82628a2",
   "metadata": {},
   "outputs": [
    {
     "name": "stdout",
     "output_type": "stream",
     "text": [
      "package 'ggcorrplot' successfully unpacked and MD5 sums checked\n",
      "\n",
      "The downloaded binary packages are in\n",
      "\tC:\\Users\\Praca.DESKTOP-4QI64LL\\AppData\\Local\\Temp\\RtmpCKv47L\\downloaded_packages\n"
     ]
    }
   ],
   "source": [
    "install.packages(\"ggcorrplot\")"
   ]
  },
  {
   "cell_type": "code",
   "execution_count": 5,
   "id": "ba99af20",
   "metadata": {},
   "outputs": [
    {
     "name": "stderr",
     "output_type": "stream",
     "text": [
      "Warning message:\n",
      "\"package 'dplyr' was built under R version 3.6.3\"\n",
      "Attaching package: 'dplyr'\n",
      "\n",
      "The following objects are masked from 'package:stats':\n",
      "\n",
      "    filter, lag\n",
      "\n",
      "The following objects are masked from 'package:base':\n",
      "\n",
      "    intersect, setdiff, setequal, union\n",
      "\n",
      "corrplot 0.92 loaded\n"
     ]
    }
   ],
   "source": [
    "library(dplyr)\n",
    "library(\"corrplot\")\n"
   ]
  },
  {
   "cell_type": "code",
   "execution_count": 6,
   "id": "4d82b46c",
   "metadata": {},
   "outputs": [
    {
     "name": "stderr",
     "output_type": "stream",
     "text": [
      "Warning message:\n",
      "\"package 'ggcorrplot' was built under R version 3.6.3\"Loading required package: ggplot2\n",
      "Registered S3 methods overwritten by 'ggplot2':\n",
      "  method         from \n",
      "  [.quosures     rlang\n",
      "  c.quosures     rlang\n",
      "  print.quosures rlang\n"
     ]
    }
   ],
   "source": [
    "library(\"ggcorrplot\")    "
   ]
  },
  {
   "cell_type": "markdown",
   "id": "fbc6d1f2",
   "metadata": {},
   "source": [
    "### Pobieramy dane do dalszej obróbki wskazując że dane oddzielone są przecinkiem"
   ]
  },
  {
   "cell_type": "code",
   "execution_count": 7,
   "id": "a10afe15",
   "metadata": {},
   "outputs": [],
   "source": [
    "CSV_DATA_URL <- \"https://community052.blob.core.windows.net/csvs/train.csv\"\n",
    "df_income <- read.csv(CSV_DATA_URL, header = TRUE, sep = \",\")"
   ]
  },
  {
   "cell_type": "markdown",
   "id": "5cd22121",
   "metadata": {},
   "source": [
    "### Przykładowa struktura bazy danych w postaci tabeli (pierwsze 40 rekordów)"
   ]
  },
  {
   "cell_type": "code",
   "execution_count": 26,
   "id": "33724751",
   "metadata": {},
   "outputs": [
    {
     "data": {
      "text/html": [
       "<table>\n",
       "<thead><tr><th scope=col>age</th><th scope=col>workclass</th><th scope=col>fnlwgt</th><th scope=col>education</th><th scope=col>educational.num</th><th scope=col>marital.status</th><th scope=col>occupation</th><th scope=col>relationship</th><th scope=col>race</th><th scope=col>gender</th><th scope=col>capital.gain</th><th scope=col>capital.loss</th><th scope=col>hours.per.week</th><th scope=col>native.country</th><th scope=col>income_.50K</th></tr></thead>\n",
       "<tbody>\n",
       "\t<tr><td>67                </td><td>Private           </td><td>366425            </td><td>Doctorate         </td><td>16                </td><td>Divorced          </td><td>Exec-managerial   </td><td>Not-in-family     </td><td>White             </td><td>Male              </td><td>99999             </td><td>   0              </td><td>60                </td><td>United-States     </td><td>1                 </td></tr>\n",
       "\t<tr><td>17                </td><td>Private           </td><td>244602            </td><td>12th              </td><td> 8                </td><td>Never-married     </td><td>Other-service     </td><td>Own-child         </td><td>White             </td><td>Male              </td><td>    0             </td><td>   0              </td><td>15                </td><td>United-States     </td><td>0                 </td></tr>\n",
       "\t<tr><td>31                </td><td>Private           </td><td>174201            </td><td>Bachelors         </td><td>13                </td><td>Married-civ-spouse</td><td>Exec-managerial   </td><td>Husband           </td><td>White             </td><td>Male              </td><td>    0             </td><td>   0              </td><td>40                </td><td>United-States     </td><td>1                 </td></tr>\n",
       "\t<tr><td>58                </td><td>State-gov         </td><td>110199            </td><td>7th-8th           </td><td> 4                </td><td>Married-civ-spouse</td><td>Transport-moving  </td><td>Husband           </td><td>White             </td><td>Male              </td><td>    0             </td><td>   0              </td><td>40                </td><td>United-States     </td><td>0                 </td></tr>\n",
       "\t<tr><td>25                </td><td>State-gov         </td><td>149248            </td><td>Some-college      </td><td>10                </td><td>Never-married     </td><td>Other-service     </td><td>Not-in-family     </td><td>Black             </td><td>Male              </td><td>    0             </td><td>   0              </td><td>40                </td><td>United-States     </td><td>0                 </td></tr>\n",
       "\t<tr><td>59                </td><td>State-gov         </td><td>105363            </td><td>HS-grad           </td><td> 9                </td><td>Never-married     </td><td>Adm-clerical      </td><td>Own-child         </td><td>White             </td><td>Male              </td><td>    0             </td><td>   0              </td><td>40                </td><td>United-States     </td><td>0                 </td></tr>\n",
       "\t<tr><td>70                </td><td>Private           </td><td>216390            </td><td>9th               </td><td> 5                </td><td>Married-civ-spouse</td><td>Machine-op-inspct </td><td>Wife              </td><td>White             </td><td>Female            </td><td> 2653             </td><td>   0              </td><td>40                </td><td>United-States     </td><td>0                 </td></tr>\n",
       "\t<tr><td>35                </td><td>Self-emp-not-inc  </td><td>361888            </td><td>Bachelors         </td><td>13                </td><td>Married-civ-spouse</td><td>Sales             </td><td>Husband           </td><td>White             </td><td>Male              </td><td>    0             </td><td>   0              </td><td>60                </td><td>Japan             </td><td>0                 </td></tr>\n",
       "\t<tr><td>28                </td><td>Private           </td><td> 74784            </td><td>HS-grad           </td><td> 9                </td><td>Never-married     </td><td>Handlers-cleaners </td><td>Not-in-family     </td><td>White             </td><td>Male              </td><td>    0             </td><td>   0              </td><td>50                </td><td>United-States     </td><td>0                 </td></tr>\n",
       "\t<tr><td>28                </td><td>Private           </td><td>118089            </td><td>HS-grad           </td><td> 9                </td><td>Married-civ-spouse</td><td>Exec-managerial   </td><td>Husband           </td><td>White             </td><td>Male              </td><td> 4386             </td><td>   0              </td><td>45                </td><td>United-States     </td><td>1                 </td></tr>\n",
       "\t<tr><td>21                </td><td>Private           </td><td>138513            </td><td>Some-college      </td><td>10                </td><td>Never-married     </td><td>Exec-managerial   </td><td>Own-child         </td><td>White             </td><td>Male              </td><td>    0             </td><td>   0              </td><td>25                </td><td>United-States     </td><td>0                 </td></tr>\n",
       "\t<tr><td>30                </td><td>Self-emp-not-inc  </td><td>100252            </td><td>HS-grad           </td><td> 9                </td><td>Married-civ-spouse</td><td>Machine-op-inspct </td><td>Own-child         </td><td>Asian-Pac-Islander</td><td>Male              </td><td>    0             </td><td>   0              </td><td>60                </td><td>South             </td><td>0                 </td></tr>\n",
       "\t<tr><td>59                </td><td>Self-emp-not-inc  </td><td>241297            </td><td>Some-college      </td><td>10                </td><td>Widowed           </td><td>Farming-fishing   </td><td>Not-in-family     </td><td>White             </td><td>Female            </td><td> 6849             </td><td>   0              </td><td>40                </td><td>United-States     </td><td>0                 </td></tr>\n",
       "\t<tr><td>20                </td><td>Private           </td><td> 39764            </td><td>HS-grad           </td><td> 9                </td><td>Never-married     </td><td>Handlers-cleaners </td><td>Own-child         </td><td>White             </td><td>Male              </td><td>    0             </td><td>   0              </td><td>40                </td><td>United-States     </td><td>0                 </td></tr>\n",
       "\t<tr><td>45                </td><td>Private           </td><td> 30690            </td><td>7th-8th           </td><td> 4                </td><td>Never-married     </td><td>Other-service     </td><td>Not-in-family     </td><td>White             </td><td>Male              </td><td>    0             </td><td>   0              </td><td>10                </td><td>United-States     </td><td>0                 </td></tr>\n",
       "\t<tr><td>76                </td><td>Private           </td><td>316185            </td><td>7th-8th           </td><td> 4                </td><td>Widowed           </td><td>Protective-serv   </td><td>Not-in-family     </td><td>White             </td><td>Female            </td><td>    0             </td><td>   0              </td><td>12                </td><td>United-States     </td><td>0                 </td></tr>\n",
       "\t<tr><td>30                </td><td>Private           </td><td>110239            </td><td>10th              </td><td> 6                </td><td>Married-civ-spouse</td><td>Transport-moving  </td><td>Husband           </td><td>White             </td><td>Male              </td><td>    0             </td><td>   0              </td><td>55                </td><td>United-States     </td><td>0                 </td></tr>\n",
       "\t<tr><td>54                </td><td>Federal-gov       </td><td>278076            </td><td>HS-grad           </td><td> 9                </td><td>Married-civ-spouse</td><td>Exec-managerial   </td><td>Husband           </td><td>White             </td><td>Male              </td><td> 5178             </td><td>   0              </td><td>40                </td><td>United-States     </td><td>1                 </td></tr>\n",
       "\t<tr><td>19                </td><td>Local-gov         </td><td>259169            </td><td>Some-college      </td><td>10                </td><td>Never-married     </td><td>Prof-specialty    </td><td>Own-child         </td><td>White             </td><td>Female            </td><td>    0             </td><td>   0              </td><td>30                </td><td>United-States     </td><td>0                 </td></tr>\n",
       "\t<tr><td>44                </td><td>Private           </td><td>136986            </td><td>Doctorate         </td><td>16                </td><td>Married-civ-spouse</td><td>Prof-specialty    </td><td>Husband           </td><td>White             </td><td>Male              </td><td>    0             </td><td>   0              </td><td>50                </td><td>United-States     </td><td>1                 </td></tr>\n",
       "\t<tr><td>31                </td><td>Private           </td><td>154227            </td><td>Some-college      </td><td>10                </td><td>Married-civ-spouse</td><td>Transport-moving  </td><td>Husband           </td><td>White             </td><td>Male              </td><td>    0             </td><td>   0              </td><td>40                </td><td>United-States     </td><td>0                 </td></tr>\n",
       "\t<tr><td>47                </td><td>Private           </td><td>117774            </td><td>HS-grad           </td><td> 9                </td><td>Married-civ-spouse</td><td>Sales             </td><td>Husband           </td><td>White             </td><td>Male              </td><td>    0             </td><td>   0              </td><td>40                </td><td>Portugal          </td><td>0                 </td></tr>\n",
       "\t<tr><td>37                </td><td>Self-emp-not-inc  </td><td>174308            </td><td>HS-grad           </td><td> 9                </td><td>Married-civ-spouse</td><td>Craft-repair      </td><td>Husband           </td><td>White             </td><td>Male              </td><td>    0             </td><td>   0              </td><td>40                </td><td>United-States     </td><td>0                 </td></tr>\n",
       "\t<tr><td>59                </td><td>Private           </td><td>189721            </td><td>Bachelors         </td><td>13                </td><td>Married-civ-spouse</td><td>Handlers-cleaners </td><td>Husband           </td><td>White             </td><td>Male              </td><td>    0             </td><td>   0              </td><td>40                </td><td>Italy             </td><td>1                 </td></tr>\n",
       "\t<tr><td>27                </td><td>Self-emp-not-inc  </td><td>229125            </td><td>11th              </td><td> 7                </td><td>Married-civ-spouse</td><td>Craft-repair      </td><td>Husband           </td><td>White             </td><td>Male              </td><td>    0             </td><td>   0              </td><td>40                </td><td>United-States     </td><td>0                 </td></tr>\n",
       "\t<tr><td>24                </td><td>Private           </td><td>341294            </td><td>HS-grad           </td><td> 9                </td><td>Married-civ-spouse</td><td>Machine-op-inspct </td><td>Husband           </td><td>White             </td><td>Male              </td><td>    0             </td><td>   0              </td><td>40                </td><td>United-States     </td><td>0                 </td></tr>\n",
       "\t<tr><td>49                </td><td>Private           </td><td>102583            </td><td>Some-college      </td><td>10                </td><td>Married-civ-spouse</td><td>Prof-specialty    </td><td>Husband           </td><td>White             </td><td>Male              </td><td>    0             </td><td>1848              </td><td>44                </td><td>United-States     </td><td>1                 </td></tr>\n",
       "\t<tr><td>36                </td><td>Private           </td><td> 64874            </td><td>Masters           </td><td>14                </td><td>Married-civ-spouse</td><td>Prof-specialty    </td><td>Husband           </td><td>White             </td><td>Male              </td><td>    0             </td><td>   0              </td><td>60                </td><td>United-States     </td><td>1                 </td></tr>\n",
       "\t<tr><td>54                </td><td>Self-emp-inc      </td><td>129432            </td><td>Bachelors         </td><td>13                </td><td>Married-civ-spouse</td><td>Exec-managerial   </td><td>Husband           </td><td>White             </td><td>Male              </td><td>15024             </td><td>   0              </td><td>40                </td><td>United-States     </td><td>1                 </td></tr>\n",
       "\t<tr><td>44                </td><td>Private           </td><td>163331            </td><td>Some-college      </td><td>10                </td><td>Widowed           </td><td>Adm-clerical      </td><td>Unmarried         </td><td>White             </td><td>Female            </td><td>    0             </td><td>   0              </td><td>32                </td><td>United-States     </td><td>0                 </td></tr>\n",
       "</tbody>\n",
       "</table>\n"
      ],
      "text/latex": [
       "\\begin{tabular}{r|lllllllllllllll}\n",
       " age & workclass & fnlwgt & education & educational.num & marital.status & occupation & relationship & race & gender & capital.gain & capital.loss & hours.per.week & native.country & income\\_.50K\\\\\n",
       "\\hline\n",
       "\t 67                 & Private            & 366425             & Doctorate          & 16                 & Divorced           & Exec-managerial    & Not-in-family      & White              & Male               & 99999              &    0               & 60                 & United-States      & 1                 \\\\\n",
       "\t 17                 & Private            & 244602             & 12th               &  8                 & Never-married      & Other-service      & Own-child          & White              & Male               &     0              &    0               & 15                 & United-States      & 0                 \\\\\n",
       "\t 31                 & Private            & 174201             & Bachelors          & 13                 & Married-civ-spouse & Exec-managerial    & Husband            & White              & Male               &     0              &    0               & 40                 & United-States      & 1                 \\\\\n",
       "\t 58                 & State-gov          & 110199             & 7th-8th            &  4                 & Married-civ-spouse & Transport-moving   & Husband            & White              & Male               &     0              &    0               & 40                 & United-States      & 0                 \\\\\n",
       "\t 25                 & State-gov          & 149248             & Some-college       & 10                 & Never-married      & Other-service      & Not-in-family      & Black              & Male               &     0              &    0               & 40                 & United-States      & 0                 \\\\\n",
       "\t 59                 & State-gov          & 105363             & HS-grad            &  9                 & Never-married      & Adm-clerical       & Own-child          & White              & Male               &     0              &    0               & 40                 & United-States      & 0                 \\\\\n",
       "\t 70                 & Private            & 216390             & 9th                &  5                 & Married-civ-spouse & Machine-op-inspct  & Wife               & White              & Female             &  2653              &    0               & 40                 & United-States      & 0                 \\\\\n",
       "\t 35                 & Self-emp-not-inc   & 361888             & Bachelors          & 13                 & Married-civ-spouse & Sales              & Husband            & White              & Male               &     0              &    0               & 60                 & Japan              & 0                 \\\\\n",
       "\t 28                 & Private            &  74784             & HS-grad            &  9                 & Never-married      & Handlers-cleaners  & Not-in-family      & White              & Male               &     0              &    0               & 50                 & United-States      & 0                 \\\\\n",
       "\t 28                 & Private            & 118089             & HS-grad            &  9                 & Married-civ-spouse & Exec-managerial    & Husband            & White              & Male               &  4386              &    0               & 45                 & United-States      & 1                 \\\\\n",
       "\t 21                 & Private            & 138513             & Some-college       & 10                 & Never-married      & Exec-managerial    & Own-child          & White              & Male               &     0              &    0               & 25                 & United-States      & 0                 \\\\\n",
       "\t 30                 & Self-emp-not-inc   & 100252             & HS-grad            &  9                 & Married-civ-spouse & Machine-op-inspct  & Own-child          & Asian-Pac-Islander & Male               &     0              &    0               & 60                 & South              & 0                 \\\\\n",
       "\t 59                 & Self-emp-not-inc   & 241297             & Some-college       & 10                 & Widowed            & Farming-fishing    & Not-in-family      & White              & Female             &  6849              &    0               & 40                 & United-States      & 0                 \\\\\n",
       "\t 20                 & Private            &  39764             & HS-grad            &  9                 & Never-married      & Handlers-cleaners  & Own-child          & White              & Male               &     0              &    0               & 40                 & United-States      & 0                 \\\\\n",
       "\t 45                 & Private            &  30690             & 7th-8th            &  4                 & Never-married      & Other-service      & Not-in-family      & White              & Male               &     0              &    0               & 10                 & United-States      & 0                 \\\\\n",
       "\t 76                 & Private            & 316185             & 7th-8th            &  4                 & Widowed            & Protective-serv    & Not-in-family      & White              & Female             &     0              &    0               & 12                 & United-States      & 0                 \\\\\n",
       "\t 30                 & Private            & 110239             & 10th               &  6                 & Married-civ-spouse & Transport-moving   & Husband            & White              & Male               &     0              &    0               & 55                 & United-States      & 0                 \\\\\n",
       "\t 54                 & Federal-gov        & 278076             & HS-grad            &  9                 & Married-civ-spouse & Exec-managerial    & Husband            & White              & Male               &  5178              &    0               & 40                 & United-States      & 1                 \\\\\n",
       "\t 19                 & Local-gov          & 259169             & Some-college       & 10                 & Never-married      & Prof-specialty     & Own-child          & White              & Female             &     0              &    0               & 30                 & United-States      & 0                 \\\\\n",
       "\t 44                 & Private            & 136986             & Doctorate          & 16                 & Married-civ-spouse & Prof-specialty     & Husband            & White              & Male               &     0              &    0               & 50                 & United-States      & 1                 \\\\\n",
       "\t 31                 & Private            & 154227             & Some-college       & 10                 & Married-civ-spouse & Transport-moving   & Husband            & White              & Male               &     0              &    0               & 40                 & United-States      & 0                 \\\\\n",
       "\t 47                 & Private            & 117774             & HS-grad            &  9                 & Married-civ-spouse & Sales              & Husband            & White              & Male               &     0              &    0               & 40                 & Portugal           & 0                 \\\\\n",
       "\t 37                 & Self-emp-not-inc   & 174308             & HS-grad            &  9                 & Married-civ-spouse & Craft-repair       & Husband            & White              & Male               &     0              &    0               & 40                 & United-States      & 0                 \\\\\n",
       "\t 59                 & Private            & 189721             & Bachelors          & 13                 & Married-civ-spouse & Handlers-cleaners  & Husband            & White              & Male               &     0              &    0               & 40                 & Italy              & 1                 \\\\\n",
       "\t 27                 & Self-emp-not-inc   & 229125             & 11th               &  7                 & Married-civ-spouse & Craft-repair       & Husband            & White              & Male               &     0              &    0               & 40                 & United-States      & 0                 \\\\\n",
       "\t 24                 & Private            & 341294             & HS-grad            &  9                 & Married-civ-spouse & Machine-op-inspct  & Husband            & White              & Male               &     0              &    0               & 40                 & United-States      & 0                 \\\\\n",
       "\t 49                 & Private            & 102583             & Some-college       & 10                 & Married-civ-spouse & Prof-specialty     & Husband            & White              & Male               &     0              & 1848               & 44                 & United-States      & 1                 \\\\\n",
       "\t 36                 & Private            &  64874             & Masters            & 14                 & Married-civ-spouse & Prof-specialty     & Husband            & White              & Male               &     0              &    0               & 60                 & United-States      & 1                 \\\\\n",
       "\t 54                 & Self-emp-inc       & 129432             & Bachelors          & 13                 & Married-civ-spouse & Exec-managerial    & Husband            & White              & Male               & 15024              &    0               & 40                 & United-States      & 1                 \\\\\n",
       "\t 44                 & Private            & 163331             & Some-college       & 10                 & Widowed            & Adm-clerical       & Unmarried          & White              & Female             &     0              &    0               & 32                 & United-States      & 0                 \\\\\n",
       "\\end{tabular}\n"
      ],
      "text/markdown": [
       "\n",
       "| age | workclass | fnlwgt | education | educational.num | marital.status | occupation | relationship | race | gender | capital.gain | capital.loss | hours.per.week | native.country | income_.50K |\n",
       "|---|---|---|---|---|---|---|---|---|---|---|---|---|---|---|\n",
       "| 67                 | Private            | 366425             | Doctorate          | 16                 | Divorced           | Exec-managerial    | Not-in-family      | White              | Male               | 99999              |    0               | 60                 | United-States      | 1                  |\n",
       "| 17                 | Private            | 244602             | 12th               |  8                 | Never-married      | Other-service      | Own-child          | White              | Male               |     0              |    0               | 15                 | United-States      | 0                  |\n",
       "| 31                 | Private            | 174201             | Bachelors          | 13                 | Married-civ-spouse | Exec-managerial    | Husband            | White              | Male               |     0              |    0               | 40                 | United-States      | 1                  |\n",
       "| 58                 | State-gov          | 110199             | 7th-8th            |  4                 | Married-civ-spouse | Transport-moving   | Husband            | White              | Male               |     0              |    0               | 40                 | United-States      | 0                  |\n",
       "| 25                 | State-gov          | 149248             | Some-college       | 10                 | Never-married      | Other-service      | Not-in-family      | Black              | Male               |     0              |    0               | 40                 | United-States      | 0                  |\n",
       "| 59                 | State-gov          | 105363             | HS-grad            |  9                 | Never-married      | Adm-clerical       | Own-child          | White              | Male               |     0              |    0               | 40                 | United-States      | 0                  |\n",
       "| 70                 | Private            | 216390             | 9th                |  5                 | Married-civ-spouse | Machine-op-inspct  | Wife               | White              | Female             |  2653              |    0               | 40                 | United-States      | 0                  |\n",
       "| 35                 | Self-emp-not-inc   | 361888             | Bachelors          | 13                 | Married-civ-spouse | Sales              | Husband            | White              | Male               |     0              |    0               | 60                 | Japan              | 0                  |\n",
       "| 28                 | Private            |  74784             | HS-grad            |  9                 | Never-married      | Handlers-cleaners  | Not-in-family      | White              | Male               |     0              |    0               | 50                 | United-States      | 0                  |\n",
       "| 28                 | Private            | 118089             | HS-grad            |  9                 | Married-civ-spouse | Exec-managerial    | Husband            | White              | Male               |  4386              |    0               | 45                 | United-States      | 1                  |\n",
       "| 21                 | Private            | 138513             | Some-college       | 10                 | Never-married      | Exec-managerial    | Own-child          | White              | Male               |     0              |    0               | 25                 | United-States      | 0                  |\n",
       "| 30                 | Self-emp-not-inc   | 100252             | HS-grad            |  9                 | Married-civ-spouse | Machine-op-inspct  | Own-child          | Asian-Pac-Islander | Male               |     0              |    0               | 60                 | South              | 0                  |\n",
       "| 59                 | Self-emp-not-inc   | 241297             | Some-college       | 10                 | Widowed            | Farming-fishing    | Not-in-family      | White              | Female             |  6849              |    0               | 40                 | United-States      | 0                  |\n",
       "| 20                 | Private            |  39764             | HS-grad            |  9                 | Never-married      | Handlers-cleaners  | Own-child          | White              | Male               |     0              |    0               | 40                 | United-States      | 0                  |\n",
       "| 45                 | Private            |  30690             | 7th-8th            |  4                 | Never-married      | Other-service      | Not-in-family      | White              | Male               |     0              |    0               | 10                 | United-States      | 0                  |\n",
       "| 76                 | Private            | 316185             | 7th-8th            |  4                 | Widowed            | Protective-serv    | Not-in-family      | White              | Female             |     0              |    0               | 12                 | United-States      | 0                  |\n",
       "| 30                 | Private            | 110239             | 10th               |  6                 | Married-civ-spouse | Transport-moving   | Husband            | White              | Male               |     0              |    0               | 55                 | United-States      | 0                  |\n",
       "| 54                 | Federal-gov        | 278076             | HS-grad            |  9                 | Married-civ-spouse | Exec-managerial    | Husband            | White              | Male               |  5178              |    0               | 40                 | United-States      | 1                  |\n",
       "| 19                 | Local-gov          | 259169             | Some-college       | 10                 | Never-married      | Prof-specialty     | Own-child          | White              | Female             |     0              |    0               | 30                 | United-States      | 0                  |\n",
       "| 44                 | Private            | 136986             | Doctorate          | 16                 | Married-civ-spouse | Prof-specialty     | Husband            | White              | Male               |     0              |    0               | 50                 | United-States      | 1                  |\n",
       "| 31                 | Private            | 154227             | Some-college       | 10                 | Married-civ-spouse | Transport-moving   | Husband            | White              | Male               |     0              |    0               | 40                 | United-States      | 0                  |\n",
       "| 47                 | Private            | 117774             | HS-grad            |  9                 | Married-civ-spouse | Sales              | Husband            | White              | Male               |     0              |    0               | 40                 | Portugal           | 0                  |\n",
       "| 37                 | Self-emp-not-inc   | 174308             | HS-grad            |  9                 | Married-civ-spouse | Craft-repair       | Husband            | White              | Male               |     0              |    0               | 40                 | United-States      | 0                  |\n",
       "| 59                 | Private            | 189721             | Bachelors          | 13                 | Married-civ-spouse | Handlers-cleaners  | Husband            | White              | Male               |     0              |    0               | 40                 | Italy              | 1                  |\n",
       "| 27                 | Self-emp-not-inc   | 229125             | 11th               |  7                 | Married-civ-spouse | Craft-repair       | Husband            | White              | Male               |     0              |    0               | 40                 | United-States      | 0                  |\n",
       "| 24                 | Private            | 341294             | HS-grad            |  9                 | Married-civ-spouse | Machine-op-inspct  | Husband            | White              | Male               |     0              |    0               | 40                 | United-States      | 0                  |\n",
       "| 49                 | Private            | 102583             | Some-college       | 10                 | Married-civ-spouse | Prof-specialty     | Husband            | White              | Male               |     0              | 1848               | 44                 | United-States      | 1                  |\n",
       "| 36                 | Private            |  64874             | Masters            | 14                 | Married-civ-spouse | Prof-specialty     | Husband            | White              | Male               |     0              |    0               | 60                 | United-States      | 1                  |\n",
       "| 54                 | Self-emp-inc       | 129432             | Bachelors          | 13                 | Married-civ-spouse | Exec-managerial    | Husband            | White              | Male               | 15024              |    0               | 40                 | United-States      | 1                  |\n",
       "| 44                 | Private            | 163331             | Some-college       | 10                 | Widowed            | Adm-clerical       | Unmarried          | White              | Female             |     0              |    0               | 32                 | United-States      | 0                  |\n",
       "\n"
      ],
      "text/plain": [
       "   age workclass        fnlwgt education    educational.num marital.status    \n",
       "1  67  Private          366425 Doctorate    16              Divorced          \n",
       "2  17  Private          244602 12th          8              Never-married     \n",
       "3  31  Private          174201 Bachelors    13              Married-civ-spouse\n",
       "4  58  State-gov        110199 7th-8th       4              Married-civ-spouse\n",
       "5  25  State-gov        149248 Some-college 10              Never-married     \n",
       "6  59  State-gov        105363 HS-grad       9              Never-married     \n",
       "7  70  Private          216390 9th           5              Married-civ-spouse\n",
       "8  35  Self-emp-not-inc 361888 Bachelors    13              Married-civ-spouse\n",
       "9  28  Private           74784 HS-grad       9              Never-married     \n",
       "10 28  Private          118089 HS-grad       9              Married-civ-spouse\n",
       "11 21  Private          138513 Some-college 10              Never-married     \n",
       "12 30  Self-emp-not-inc 100252 HS-grad       9              Married-civ-spouse\n",
       "13 59  Self-emp-not-inc 241297 Some-college 10              Widowed           \n",
       "14 20  Private           39764 HS-grad       9              Never-married     \n",
       "15 45  Private           30690 7th-8th       4              Never-married     \n",
       "16 76  Private          316185 7th-8th       4              Widowed           \n",
       "17 30  Private          110239 10th          6              Married-civ-spouse\n",
       "18 54  Federal-gov      278076 HS-grad       9              Married-civ-spouse\n",
       "19 19  Local-gov        259169 Some-college 10              Never-married     \n",
       "20 44  Private          136986 Doctorate    16              Married-civ-spouse\n",
       "21 31  Private          154227 Some-college 10              Married-civ-spouse\n",
       "22 47  Private          117774 HS-grad       9              Married-civ-spouse\n",
       "23 37  Self-emp-not-inc 174308 HS-grad       9              Married-civ-spouse\n",
       "24 59  Private          189721 Bachelors    13              Married-civ-spouse\n",
       "25 27  Self-emp-not-inc 229125 11th          7              Married-civ-spouse\n",
       "26 24  Private          341294 HS-grad       9              Married-civ-spouse\n",
       "27 49  Private          102583 Some-college 10              Married-civ-spouse\n",
       "28 36  Private           64874 Masters      14              Married-civ-spouse\n",
       "29 54  Self-emp-inc     129432 Bachelors    13              Married-civ-spouse\n",
       "30 44  Private          163331 Some-college 10              Widowed           \n",
       "   occupation        relationship  race               gender capital.gain\n",
       "1  Exec-managerial   Not-in-family White              Male   99999       \n",
       "2  Other-service     Own-child     White              Male       0       \n",
       "3  Exec-managerial   Husband       White              Male       0       \n",
       "4  Transport-moving  Husband       White              Male       0       \n",
       "5  Other-service     Not-in-family Black              Male       0       \n",
       "6  Adm-clerical      Own-child     White              Male       0       \n",
       "7  Machine-op-inspct Wife          White              Female  2653       \n",
       "8  Sales             Husband       White              Male       0       \n",
       "9  Handlers-cleaners Not-in-family White              Male       0       \n",
       "10 Exec-managerial   Husband       White              Male    4386       \n",
       "11 Exec-managerial   Own-child     White              Male       0       \n",
       "12 Machine-op-inspct Own-child     Asian-Pac-Islander Male       0       \n",
       "13 Farming-fishing   Not-in-family White              Female  6849       \n",
       "14 Handlers-cleaners Own-child     White              Male       0       \n",
       "15 Other-service     Not-in-family White              Male       0       \n",
       "16 Protective-serv   Not-in-family White              Female     0       \n",
       "17 Transport-moving  Husband       White              Male       0       \n",
       "18 Exec-managerial   Husband       White              Male    5178       \n",
       "19 Prof-specialty    Own-child     White              Female     0       \n",
       "20 Prof-specialty    Husband       White              Male       0       \n",
       "21 Transport-moving  Husband       White              Male       0       \n",
       "22 Sales             Husband       White              Male       0       \n",
       "23 Craft-repair      Husband       White              Male       0       \n",
       "24 Handlers-cleaners Husband       White              Male       0       \n",
       "25 Craft-repair      Husband       White              Male       0       \n",
       "26 Machine-op-inspct Husband       White              Male       0       \n",
       "27 Prof-specialty    Husband       White              Male       0       \n",
       "28 Prof-specialty    Husband       White              Male       0       \n",
       "29 Exec-managerial   Husband       White              Male   15024       \n",
       "30 Adm-clerical      Unmarried     White              Female     0       \n",
       "   capital.loss hours.per.week native.country income_.50K\n",
       "1     0         60             United-States  1          \n",
       "2     0         15             United-States  0          \n",
       "3     0         40             United-States  1          \n",
       "4     0         40             United-States  0          \n",
       "5     0         40             United-States  0          \n",
       "6     0         40             United-States  0          \n",
       "7     0         40             United-States  0          \n",
       "8     0         60             Japan          0          \n",
       "9     0         50             United-States  0          \n",
       "10    0         45             United-States  1          \n",
       "11    0         25             United-States  0          \n",
       "12    0         60             South          0          \n",
       "13    0         40             United-States  0          \n",
       "14    0         40             United-States  0          \n",
       "15    0         10             United-States  0          \n",
       "16    0         12             United-States  0          \n",
       "17    0         55             United-States  0          \n",
       "18    0         40             United-States  1          \n",
       "19    0         30             United-States  0          \n",
       "20    0         50             United-States  1          \n",
       "21    0         40             United-States  0          \n",
       "22    0         40             Portugal       0          \n",
       "23    0         40             United-States  0          \n",
       "24    0         40             Italy          1          \n",
       "25    0         40             United-States  0          \n",
       "26    0         40             United-States  0          \n",
       "27 1848         44             United-States  1          \n",
       "28    0         60             United-States  1          \n",
       "29    0         40             United-States  1          \n",
       "30    0         32             United-States  0          "
      ]
     },
     "metadata": {},
     "output_type": "display_data"
    }
   ],
   "source": [
    "head(df_income, n=30)"
   ]
  },
  {
   "cell_type": "markdown",
   "id": "f3193591",
   "metadata": {},
   "source": [
    "### Podstawowe informacje o strukturze danych:"
   ]
  },
  {
   "cell_type": "code",
   "execution_count": 25,
   "id": "6a867343",
   "metadata": {},
   "outputs": [
    {
     "data": {
      "text/plain": [
       "      age                   workclass         fnlwgt       \n",
       " Min.   :17.00   Private         :30587   Min.   :  13492  \n",
       " 1st Qu.:28.00   Self-emp-not-inc: 3464   1st Qu.: 117496  \n",
       " Median :37.00   Local-gov       : 2822   Median : 178100  \n",
       " Mean   :38.62                   : 2498   Mean   : 189673  \n",
       " 3rd Qu.:48.00   State-gov       : 1756   3rd Qu.: 237671  \n",
       " Max.   :90.00   Self-emp-inc    : 1518   Max.   :1490400  \n",
       "                 (Other)         : 1312                    \n",
       "        education     educational.num               marital.status \n",
       " HS-grad     :14197   Min.   : 1.00   Divorced             : 5971  \n",
       " Some-college: 9790   1st Qu.: 9.00   Married-AF-spouse    :   31  \n",
       " Bachelors   : 7219   Median :10.00   Married-civ-spouse   :20147  \n",
       " Masters     : 2392   Mean   :10.07   Married-spouse-absent:  570  \n",
       " Assoc-voc   : 1831   3rd Qu.:12.00   Never-married        :14513  \n",
       " 11th        : 1647   Max.   :16.00   Separated            : 1361  \n",
       " (Other)     : 6881                   Widowed              : 1364  \n",
       "           occupation            relationship                   race      \n",
       " Craft-repair   : 5519   Husband       :17749   Amer-Indian-Eskimo:  421  \n",
       " Prof-specialty : 5518   Not-in-family :11321   Asian-Pac-Islander: 1373  \n",
       " Exec-managerial: 5506   Other-relative: 1358   Black             : 4218  \n",
       " Adm-clerical   : 5004   Own-child     : 6836   Other             :  373  \n",
       " Sales          : 4965   Unmarried     : 4602   White             :37572  \n",
       " Other-service  : 4448   Wife          : 2091                             \n",
       " (Other)        :12997                                                    \n",
       "    gender       capital.gain    capital.loss     hours.per.week \n",
       " Female:14557   Min.   :    0   Min.   :   0.00   Min.   : 1.00  \n",
       " Male  :29400   1st Qu.:    0   1st Qu.:   0.00   1st Qu.:40.00  \n",
       "                Median :    0   Median :   0.00   Median :40.00  \n",
       "                Mean   : 1094   Mean   :  88.25   Mean   :40.41  \n",
       "                3rd Qu.:    0   3rd Qu.:   0.00   3rd Qu.:45.00  \n",
       "                Max.   :99999   Max.   :4356.00   Max.   :99.00  \n",
       "                                                                 \n",
       "       native.country   income_.50K    \n",
       " United-States:39429   Min.   :0.0000  \n",
       " Mexico       :  880   1st Qu.:0.0000  \n",
       "              :  763   Median :0.0000  \n",
       " Philippines  :  273   Mean   :0.2393  \n",
       " Germany      :  188   3rd Qu.:0.0000  \n",
       " Puerto-Rico  :  167   Max.   :1.0000  \n",
       " (Other)      : 2257                   "
      ]
     },
     "metadata": {},
     "output_type": "display_data"
    }
   ],
   "source": [
    "summary(df_income)"
   ]
  },
  {
   "cell_type": "markdown",
   "id": "e4b9ebbd",
   "metadata": {},
   "source": [
    "### Unikalne wartości opisowe dla poszczególnych kolumn \n"
   ]
  },
  {
   "cell_type": "code",
   "execution_count": 21,
   "id": "b8b8fa5e",
   "metadata": {},
   "outputs": [
    {
     "name": "stdout",
     "output_type": "stream",
     "text": [
      "[1] \"workclass:\"\n"
     ]
    },
    {
     "data": {
      "text/html": [
       "<ol class=list-inline>\n",
       "\t<li>Private</li>\n",
       "\t<li>State-gov</li>\n",
       "\t<li>Self-emp-not-inc</li>\n",
       "\t<li>Federal-gov</li>\n",
       "\t<li>Local-gov</li>\n",
       "\t<li>Self-emp-inc</li>\n",
       "\t<li></li>\n",
       "\t<li>Never-worked</li>\n",
       "\t<li>Without-pay</li>\n",
       "</ol>\n",
       "\n",
       "<details>\n",
       "\t<summary style=display:list-item;cursor:pointer>\n",
       "\t\t<strong>Levels</strong>:\n",
       "\t</summary>\n",
       "\t<ol class=list-inline>\n",
       "\t\t<li>''</li>\n",
       "\t\t<li>'Federal-gov'</li>\n",
       "\t\t<li>'Local-gov'</li>\n",
       "\t\t<li>'Never-worked'</li>\n",
       "\t\t<li>'Private'</li>\n",
       "\t\t<li>'Self-emp-inc'</li>\n",
       "\t\t<li>'Self-emp-not-inc'</li>\n",
       "\t\t<li>'State-gov'</li>\n",
       "\t\t<li>'Without-pay'</li>\n",
       "\t</ol>\n",
       "</details>"
      ],
      "text/latex": [
       "\\begin{enumerate*}\n",
       "\\item Private\n",
       "\\item State-gov\n",
       "\\item Self-emp-not-inc\n",
       "\\item Federal-gov\n",
       "\\item Local-gov\n",
       "\\item Self-emp-inc\n",
       "\\item \n",
       "\\item Never-worked\n",
       "\\item Without-pay\n",
       "\\end{enumerate*}\n",
       "\n",
       "\\emph{Levels}: \\begin{enumerate*}\n",
       "\\item ''\n",
       "\\item 'Federal-gov'\n",
       "\\item 'Local-gov'\n",
       "\\item 'Never-worked'\n",
       "\\item 'Private'\n",
       "\\item 'Self-emp-inc'\n",
       "\\item 'Self-emp-not-inc'\n",
       "\\item 'State-gov'\n",
       "\\item 'Without-pay'\n",
       "\\end{enumerate*}\n"
      ],
      "text/markdown": [
       "1. Private\n",
       "2. State-gov\n",
       "3. Self-emp-not-inc\n",
       "4. Federal-gov\n",
       "5. Local-gov\n",
       "6. Self-emp-inc\n",
       "7. \n",
       "8. Never-worked\n",
       "9. Without-pay\n",
       "\n",
       "\n",
       "\n",
       "**Levels**: 1. ''\n",
       "2. 'Federal-gov'\n",
       "3. 'Local-gov'\n",
       "4. 'Never-worked'\n",
       "5. 'Private'\n",
       "6. 'Self-emp-inc'\n",
       "7. 'Self-emp-not-inc'\n",
       "8. 'State-gov'\n",
       "9. 'Without-pay'\n",
       "\n",
       "\n"
      ],
      "text/plain": [
       "[1] Private          State-gov        Self-emp-not-inc Federal-gov     \n",
       "[5] Local-gov        Self-emp-inc                      Never-worked    \n",
       "[9] Without-pay     \n",
       "9 Levels:  Federal-gov Local-gov Never-worked Private ... Without-pay"
      ]
     },
     "metadata": {},
     "output_type": "display_data"
    },
    {
     "name": "stdout",
     "output_type": "stream",
     "text": [
      "[1] \"education:\"\n"
     ]
    },
    {
     "data": {
      "text/html": [
       "<ol class=list-inline>\n",
       "\t<li>Doctorate</li>\n",
       "\t<li>12th</li>\n",
       "\t<li>Bachelors</li>\n",
       "\t<li>7th-8th</li>\n",
       "\t<li>Some-college</li>\n",
       "\t<li>HS-grad</li>\n",
       "\t<li>9th</li>\n",
       "\t<li>10th</li>\n",
       "\t<li>11th</li>\n",
       "\t<li>Masters</li>\n",
       "\t<li>Preschool</li>\n",
       "\t<li>5th-6th</li>\n",
       "\t<li>Prof-school</li>\n",
       "\t<li>Assoc-voc</li>\n",
       "\t<li>1st-4th</li>\n",
       "\t<li>Assoc-acdm</li>\n",
       "</ol>\n",
       "\n",
       "<details>\n",
       "\t<summary style=display:list-item;cursor:pointer>\n",
       "\t\t<strong>Levels</strong>:\n",
       "\t</summary>\n",
       "\t<ol class=list-inline>\n",
       "\t\t<li>'10th'</li>\n",
       "\t\t<li>'11th'</li>\n",
       "\t\t<li>'12th'</li>\n",
       "\t\t<li>'1st-4th'</li>\n",
       "\t\t<li>'5th-6th'</li>\n",
       "\t\t<li>'7th-8th'</li>\n",
       "\t\t<li>'9th'</li>\n",
       "\t\t<li>'Assoc-acdm'</li>\n",
       "\t\t<li>'Assoc-voc'</li>\n",
       "\t\t<li>'Bachelors'</li>\n",
       "\t\t<li>'Doctorate'</li>\n",
       "\t\t<li>'HS-grad'</li>\n",
       "\t\t<li>'Masters'</li>\n",
       "\t\t<li>'Preschool'</li>\n",
       "\t\t<li>'Prof-school'</li>\n",
       "\t\t<li>'Some-college'</li>\n",
       "\t</ol>\n",
       "</details>"
      ],
      "text/latex": [
       "\\begin{enumerate*}\n",
       "\\item Doctorate\n",
       "\\item 12th\n",
       "\\item Bachelors\n",
       "\\item 7th-8th\n",
       "\\item Some-college\n",
       "\\item HS-grad\n",
       "\\item 9th\n",
       "\\item 10th\n",
       "\\item 11th\n",
       "\\item Masters\n",
       "\\item Preschool\n",
       "\\item 5th-6th\n",
       "\\item Prof-school\n",
       "\\item Assoc-voc\n",
       "\\item 1st-4th\n",
       "\\item Assoc-acdm\n",
       "\\end{enumerate*}\n",
       "\n",
       "\\emph{Levels}: \\begin{enumerate*}\n",
       "\\item '10th'\n",
       "\\item '11th'\n",
       "\\item '12th'\n",
       "\\item '1st-4th'\n",
       "\\item '5th-6th'\n",
       "\\item '7th-8th'\n",
       "\\item '9th'\n",
       "\\item 'Assoc-acdm'\n",
       "\\item 'Assoc-voc'\n",
       "\\item 'Bachelors'\n",
       "\\item 'Doctorate'\n",
       "\\item 'HS-grad'\n",
       "\\item 'Masters'\n",
       "\\item 'Preschool'\n",
       "\\item 'Prof-school'\n",
       "\\item 'Some-college'\n",
       "\\end{enumerate*}\n"
      ],
      "text/markdown": [
       "1. Doctorate\n",
       "2. 12th\n",
       "3. Bachelors\n",
       "4. 7th-8th\n",
       "5. Some-college\n",
       "6. HS-grad\n",
       "7. 9th\n",
       "8. 10th\n",
       "9. 11th\n",
       "10. Masters\n",
       "11. Preschool\n",
       "12. 5th-6th\n",
       "13. Prof-school\n",
       "14. Assoc-voc\n",
       "15. 1st-4th\n",
       "16. Assoc-acdm\n",
       "\n",
       "\n",
       "\n",
       "**Levels**: 1. '10th'\n",
       "2. '11th'\n",
       "3. '12th'\n",
       "4. '1st-4th'\n",
       "5. '5th-6th'\n",
       "6. '7th-8th'\n",
       "7. '9th'\n",
       "8. 'Assoc-acdm'\n",
       "9. 'Assoc-voc'\n",
       "10. 'Bachelors'\n",
       "11. 'Doctorate'\n",
       "12. 'HS-grad'\n",
       "13. 'Masters'\n",
       "14. 'Preschool'\n",
       "15. 'Prof-school'\n",
       "16. 'Some-college'\n",
       "\n",
       "\n"
      ],
      "text/plain": [
       " [1] Doctorate    12th         Bachelors    7th-8th      Some-college\n",
       " [6] HS-grad      9th          10th         11th         Masters     \n",
       "[11] Preschool    5th-6th      Prof-school  Assoc-voc    1st-4th     \n",
       "[16] Assoc-acdm  \n",
       "16 Levels: 10th 11th 12th 1st-4th 5th-6th 7th-8th 9th Assoc-acdm ... Some-college"
      ]
     },
     "metadata": {},
     "output_type": "display_data"
    },
    {
     "name": "stdout",
     "output_type": "stream",
     "text": [
      "[1] \"marital-status:\"\n"
     ]
    },
    {
     "data": {
      "text/plain": [
       "NULL"
      ]
     },
     "metadata": {},
     "output_type": "display_data"
    },
    {
     "name": "stdout",
     "output_type": "stream",
     "text": [
      "[1] \"occupation:\"\n"
     ]
    },
    {
     "data": {
      "text/html": [
       "<ol class=list-inline>\n",
       "\t<li>Exec-managerial</li>\n",
       "\t<li>Other-service</li>\n",
       "\t<li>Transport-moving</li>\n",
       "\t<li>Adm-clerical</li>\n",
       "\t<li>Machine-op-inspct</li>\n",
       "\t<li>Sales</li>\n",
       "\t<li>Handlers-cleaners</li>\n",
       "\t<li>Farming-fishing</li>\n",
       "\t<li>Protective-serv</li>\n",
       "\t<li>Prof-specialty</li>\n",
       "\t<li>Craft-repair</li>\n",
       "\t<li></li>\n",
       "\t<li>Tech-support</li>\n",
       "\t<li>Priv-house-serv</li>\n",
       "\t<li>Armed-Forces</li>\n",
       "</ol>\n",
       "\n",
       "<details>\n",
       "\t<summary style=display:list-item;cursor:pointer>\n",
       "\t\t<strong>Levels</strong>:\n",
       "\t</summary>\n",
       "\t<ol class=list-inline>\n",
       "\t\t<li>''</li>\n",
       "\t\t<li>'Adm-clerical'</li>\n",
       "\t\t<li>'Armed-Forces'</li>\n",
       "\t\t<li>'Craft-repair'</li>\n",
       "\t\t<li>'Exec-managerial'</li>\n",
       "\t\t<li>'Farming-fishing'</li>\n",
       "\t\t<li>'Handlers-cleaners'</li>\n",
       "\t\t<li>'Machine-op-inspct'</li>\n",
       "\t\t<li>'Other-service'</li>\n",
       "\t\t<li>'Priv-house-serv'</li>\n",
       "\t\t<li>'Prof-specialty'</li>\n",
       "\t\t<li>'Protective-serv'</li>\n",
       "\t\t<li>'Sales'</li>\n",
       "\t\t<li>'Tech-support'</li>\n",
       "\t\t<li>'Transport-moving'</li>\n",
       "\t</ol>\n",
       "</details>"
      ],
      "text/latex": [
       "\\begin{enumerate*}\n",
       "\\item Exec-managerial\n",
       "\\item Other-service\n",
       "\\item Transport-moving\n",
       "\\item Adm-clerical\n",
       "\\item Machine-op-inspct\n",
       "\\item Sales\n",
       "\\item Handlers-cleaners\n",
       "\\item Farming-fishing\n",
       "\\item Protective-serv\n",
       "\\item Prof-specialty\n",
       "\\item Craft-repair\n",
       "\\item \n",
       "\\item Tech-support\n",
       "\\item Priv-house-serv\n",
       "\\item Armed-Forces\n",
       "\\end{enumerate*}\n",
       "\n",
       "\\emph{Levels}: \\begin{enumerate*}\n",
       "\\item ''\n",
       "\\item 'Adm-clerical'\n",
       "\\item 'Armed-Forces'\n",
       "\\item 'Craft-repair'\n",
       "\\item 'Exec-managerial'\n",
       "\\item 'Farming-fishing'\n",
       "\\item 'Handlers-cleaners'\n",
       "\\item 'Machine-op-inspct'\n",
       "\\item 'Other-service'\n",
       "\\item 'Priv-house-serv'\n",
       "\\item 'Prof-specialty'\n",
       "\\item 'Protective-serv'\n",
       "\\item 'Sales'\n",
       "\\item 'Tech-support'\n",
       "\\item 'Transport-moving'\n",
       "\\end{enumerate*}\n"
      ],
      "text/markdown": [
       "1. Exec-managerial\n",
       "2. Other-service\n",
       "3. Transport-moving\n",
       "4. Adm-clerical\n",
       "5. Machine-op-inspct\n",
       "6. Sales\n",
       "7. Handlers-cleaners\n",
       "8. Farming-fishing\n",
       "9. Protective-serv\n",
       "10. Prof-specialty\n",
       "11. Craft-repair\n",
       "12. \n",
       "13. Tech-support\n",
       "14. Priv-house-serv\n",
       "15. Armed-Forces\n",
       "\n",
       "\n",
       "\n",
       "**Levels**: 1. ''\n",
       "2. 'Adm-clerical'\n",
       "3. 'Armed-Forces'\n",
       "4. 'Craft-repair'\n",
       "5. 'Exec-managerial'\n",
       "6. 'Farming-fishing'\n",
       "7. 'Handlers-cleaners'\n",
       "8. 'Machine-op-inspct'\n",
       "9. 'Other-service'\n",
       "10. 'Priv-house-serv'\n",
       "11. 'Prof-specialty'\n",
       "12. 'Protective-serv'\n",
       "13. 'Sales'\n",
       "14. 'Tech-support'\n",
       "15. 'Transport-moving'\n",
       "\n",
       "\n"
      ],
      "text/plain": [
       " [1] Exec-managerial   Other-service     Transport-moving  Adm-clerical     \n",
       " [5] Machine-op-inspct Sales             Handlers-cleaners Farming-fishing  \n",
       " [9] Protective-serv   Prof-specialty    Craft-repair                       \n",
       "[13] Tech-support      Priv-house-serv   Armed-Forces     \n",
       "15 Levels:  Adm-clerical Armed-Forces Craft-repair ... Transport-moving"
      ]
     },
     "metadata": {},
     "output_type": "display_data"
    },
    {
     "name": "stdout",
     "output_type": "stream",
     "text": [
      "[1] \"relationship:\"\n"
     ]
    },
    {
     "data": {
      "text/html": [
       "<ol class=list-inline>\n",
       "\t<li>Not-in-family</li>\n",
       "\t<li>Own-child</li>\n",
       "\t<li>Husband</li>\n",
       "\t<li>Wife</li>\n",
       "\t<li>Unmarried</li>\n",
       "\t<li>Other-relative</li>\n",
       "</ol>\n",
       "\n",
       "<details>\n",
       "\t<summary style=display:list-item;cursor:pointer>\n",
       "\t\t<strong>Levels</strong>:\n",
       "\t</summary>\n",
       "\t<ol class=list-inline>\n",
       "\t\t<li>'Husband'</li>\n",
       "\t\t<li>'Not-in-family'</li>\n",
       "\t\t<li>'Other-relative'</li>\n",
       "\t\t<li>'Own-child'</li>\n",
       "\t\t<li>'Unmarried'</li>\n",
       "\t\t<li>'Wife'</li>\n",
       "\t</ol>\n",
       "</details>"
      ],
      "text/latex": [
       "\\begin{enumerate*}\n",
       "\\item Not-in-family\n",
       "\\item Own-child\n",
       "\\item Husband\n",
       "\\item Wife\n",
       "\\item Unmarried\n",
       "\\item Other-relative\n",
       "\\end{enumerate*}\n",
       "\n",
       "\\emph{Levels}: \\begin{enumerate*}\n",
       "\\item 'Husband'\n",
       "\\item 'Not-in-family'\n",
       "\\item 'Other-relative'\n",
       "\\item 'Own-child'\n",
       "\\item 'Unmarried'\n",
       "\\item 'Wife'\n",
       "\\end{enumerate*}\n"
      ],
      "text/markdown": [
       "1. Not-in-family\n",
       "2. Own-child\n",
       "3. Husband\n",
       "4. Wife\n",
       "5. Unmarried\n",
       "6. Other-relative\n",
       "\n",
       "\n",
       "\n",
       "**Levels**: 1. 'Husband'\n",
       "2. 'Not-in-family'\n",
       "3. 'Other-relative'\n",
       "4. 'Own-child'\n",
       "5. 'Unmarried'\n",
       "6. 'Wife'\n",
       "\n",
       "\n"
      ],
      "text/plain": [
       "[1] Not-in-family  Own-child      Husband        Wife           Unmarried     \n",
       "[6] Other-relative\n",
       "Levels: Husband Not-in-family Other-relative Own-child Unmarried Wife"
      ]
     },
     "metadata": {},
     "output_type": "display_data"
    },
    {
     "name": "stdout",
     "output_type": "stream",
     "text": [
      "[1] \"race:\"\n"
     ]
    },
    {
     "data": {
      "text/html": [
       "<ol class=list-inline>\n",
       "\t<li>White</li>\n",
       "\t<li>Black</li>\n",
       "\t<li>Asian-Pac-Islander</li>\n",
       "\t<li>Other</li>\n",
       "\t<li>Amer-Indian-Eskimo</li>\n",
       "</ol>\n",
       "\n",
       "<details>\n",
       "\t<summary style=display:list-item;cursor:pointer>\n",
       "\t\t<strong>Levels</strong>:\n",
       "\t</summary>\n",
       "\t<ol class=list-inline>\n",
       "\t\t<li>'Amer-Indian-Eskimo'</li>\n",
       "\t\t<li>'Asian-Pac-Islander'</li>\n",
       "\t\t<li>'Black'</li>\n",
       "\t\t<li>'Other'</li>\n",
       "\t\t<li>'White'</li>\n",
       "\t</ol>\n",
       "</details>"
      ],
      "text/latex": [
       "\\begin{enumerate*}\n",
       "\\item White\n",
       "\\item Black\n",
       "\\item Asian-Pac-Islander\n",
       "\\item Other\n",
       "\\item Amer-Indian-Eskimo\n",
       "\\end{enumerate*}\n",
       "\n",
       "\\emph{Levels}: \\begin{enumerate*}\n",
       "\\item 'Amer-Indian-Eskimo'\n",
       "\\item 'Asian-Pac-Islander'\n",
       "\\item 'Black'\n",
       "\\item 'Other'\n",
       "\\item 'White'\n",
       "\\end{enumerate*}\n"
      ],
      "text/markdown": [
       "1. White\n",
       "2. Black\n",
       "3. Asian-Pac-Islander\n",
       "4. Other\n",
       "5. Amer-Indian-Eskimo\n",
       "\n",
       "\n",
       "\n",
       "**Levels**: 1. 'Amer-Indian-Eskimo'\n",
       "2. 'Asian-Pac-Islander'\n",
       "3. 'Black'\n",
       "4. 'Other'\n",
       "5. 'White'\n",
       "\n",
       "\n"
      ],
      "text/plain": [
       "[1] White              Black              Asian-Pac-Islander Other             \n",
       "[5] Amer-Indian-Eskimo\n",
       "Levels: Amer-Indian-Eskimo Asian-Pac-Islander Black Other White"
      ]
     },
     "metadata": {},
     "output_type": "display_data"
    },
    {
     "name": "stdout",
     "output_type": "stream",
     "text": [
      "[1] \"gender:\"\n"
     ]
    },
    {
     "data": {
      "text/html": [
       "<ol class=list-inline>\n",
       "\t<li>Male</li>\n",
       "\t<li>Female</li>\n",
       "</ol>\n",
       "\n",
       "<details>\n",
       "\t<summary style=display:list-item;cursor:pointer>\n",
       "\t\t<strong>Levels</strong>:\n",
       "\t</summary>\n",
       "\t<ol class=list-inline>\n",
       "\t\t<li>'Female'</li>\n",
       "\t\t<li>'Male'</li>\n",
       "\t</ol>\n",
       "</details>"
      ],
      "text/latex": [
       "\\begin{enumerate*}\n",
       "\\item Male\n",
       "\\item Female\n",
       "\\end{enumerate*}\n",
       "\n",
       "\\emph{Levels}: \\begin{enumerate*}\n",
       "\\item 'Female'\n",
       "\\item 'Male'\n",
       "\\end{enumerate*}\n"
      ],
      "text/markdown": [
       "1. Male\n",
       "2. Female\n",
       "\n",
       "\n",
       "\n",
       "**Levels**: 1. 'Female'\n",
       "2. 'Male'\n",
       "\n",
       "\n"
      ],
      "text/plain": [
       "[1] Male   Female\n",
       "Levels: Female Male"
      ]
     },
     "metadata": {},
     "output_type": "display_data"
    }
   ],
   "source": [
    "print(\"workclass:\")\n",
    "unique(df_income$workclass)\n",
    "\n",
    "print(\"education:\")\n",
    "unique(df_income$education)\n",
    "\n",
    "print(\"marital-status:\")\n",
    "unique(df_income$marital_status)\n",
    "\n",
    "print(\"occupation:\")\n",
    "unique(df_income$occupation)\n",
    "\n",
    "print(\"relationship:\")\n",
    "unique(df_income$relationship)\n",
    "\n",
    "print(\"race:\")\n",
    "unique(df_income$race)\n",
    "\n",
    "print(\"gender:\")\n",
    "unique(df_income$gender)\n"
   ]
  },
  {
   "cell_type": "markdown",
   "id": "3ec67566",
   "metadata": {},
   "source": [
    "# Przygotowanie danych do dalszej pracy\n"
   ]
  },
  {
   "cell_type": "markdown",
   "id": "bba17913",
   "metadata": {},
   "source": [
    "#### Sprawdzamy jaki typ danych mają poszczególne kolumny"
   ]
  },
  {
   "cell_type": "code",
   "execution_count": 30,
   "id": "9a21e935",
   "metadata": {},
   "outputs": [
    {
     "data": {
      "text/html": [
       "<dl class=dl-horizontal>\n",
       "\t<dt>age</dt>\n",
       "\t\t<dd>'integer'</dd>\n",
       "\t<dt>workclass</dt>\n",
       "\t\t<dd>'factor'</dd>\n",
       "\t<dt>fnlwgt</dt>\n",
       "\t\t<dd>'integer'</dd>\n",
       "\t<dt>education</dt>\n",
       "\t\t<dd>'factor'</dd>\n",
       "\t<dt>educational.num</dt>\n",
       "\t\t<dd>'integer'</dd>\n",
       "\t<dt>marital.status</dt>\n",
       "\t\t<dd>'factor'</dd>\n",
       "\t<dt>occupation</dt>\n",
       "\t\t<dd>'factor'</dd>\n",
       "\t<dt>relationship</dt>\n",
       "\t\t<dd>'factor'</dd>\n",
       "\t<dt>race</dt>\n",
       "\t\t<dd>'factor'</dd>\n",
       "\t<dt>gender</dt>\n",
       "\t\t<dd>'factor'</dd>\n",
       "\t<dt>capital.gain</dt>\n",
       "\t\t<dd>'integer'</dd>\n",
       "\t<dt>capital.loss</dt>\n",
       "\t\t<dd>'integer'</dd>\n",
       "\t<dt>hours.per.week</dt>\n",
       "\t\t<dd>'integer'</dd>\n",
       "\t<dt>native.country</dt>\n",
       "\t\t<dd>'factor'</dd>\n",
       "\t<dt>income_.50K</dt>\n",
       "\t\t<dd>'integer'</dd>\n",
       "</dl>\n"
      ],
      "text/latex": [
       "\\begin{description*}\n",
       "\\item[age] 'integer'\n",
       "\\item[workclass] 'factor'\n",
       "\\item[fnlwgt] 'integer'\n",
       "\\item[education] 'factor'\n",
       "\\item[educational.num] 'integer'\n",
       "\\item[marital.status] 'factor'\n",
       "\\item[occupation] 'factor'\n",
       "\\item[relationship] 'factor'\n",
       "\\item[race] 'factor'\n",
       "\\item[gender] 'factor'\n",
       "\\item[capital.gain] 'integer'\n",
       "\\item[capital.loss] 'integer'\n",
       "\\item[hours.per.week] 'integer'\n",
       "\\item[native.country] 'factor'\n",
       "\\item[income\\textbackslash{}\\_.50K] 'integer'\n",
       "\\end{description*}\n"
      ],
      "text/markdown": [
       "age\n",
       ":   'integer'workclass\n",
       ":   'factor'fnlwgt\n",
       ":   'integer'education\n",
       ":   'factor'educational.num\n",
       ":   'integer'marital.status\n",
       ":   'factor'occupation\n",
       ":   'factor'relationship\n",
       ":   'factor'race\n",
       ":   'factor'gender\n",
       ":   'factor'capital.gain\n",
       ":   'integer'capital.loss\n",
       ":   'integer'hours.per.week\n",
       ":   'integer'native.country\n",
       ":   'factor'income_.50K\n",
       ":   'integer'\n",
       "\n"
      ],
      "text/plain": [
       "            age       workclass          fnlwgt       education educational.num \n",
       "      \"integer\"        \"factor\"       \"integer\"        \"factor\"       \"integer\" \n",
       " marital.status      occupation    relationship            race          gender \n",
       "       \"factor\"        \"factor\"        \"factor\"        \"factor\"        \"factor\" \n",
       "   capital.gain    capital.loss  hours.per.week  native.country     income_.50K \n",
       "      \"integer\"       \"integer\"       \"integer\"        \"factor\"       \"integer\" "
      ]
     },
     "metadata": {},
     "output_type": "display_data"
    }
   ],
   "source": [
    "sapply(df_income, class)"
   ]
  },
  {
   "cell_type": "markdown",
   "id": "5ca7a831",
   "metadata": {},
   "source": [
    "### Wszystkie typy są zgodne z naszymi oczekiwaniami oprócz typu kolumny `income_>50`. Konwertujemy zatem kolumnę `income_>50k` z typu integer na typ logical, będzie to bardziej przejrzyste i pomoże w dalszej analizie"
   ]
  },
  {
   "cell_type": "code",
   "execution_count": 50,
   "id": "489f5b8a",
   "metadata": {},
   "outputs": [
    {
     "name": "stdout",
     "output_type": "stream",
     "text": [
      "[1] \"Typ danych w kolumnie income_.50K po zmianie:\"\n"
     ]
    },
    {
     "data": {
      "text/html": [
       "<strong>income_.50K:</strong> 'logical'"
      ],
      "text/latex": [
       "\\textbf{income\\textbackslash{}\\_.50K:} 'logical'"
      ],
      "text/markdown": [
       "**income_.50K:** 'logical'"
      ],
      "text/plain": [
       "income_.50K \n",
       "  \"logical\" "
      ]
     },
     "metadata": {},
     "output_type": "display_data"
    }
   ],
   "source": [
    "df_income$income_.50K = as.logical(df_income$income_.50K)\n",
    "print('Typ danych w kolumnie income_.50K po zmianie:')\n",
    "sapply(df_income['income_.50K'], class)\n"
   ]
  },
  {
   "cell_type": "markdown",
   "id": "b75f6cb7",
   "metadata": {},
   "source": [
    "#### Tak prezentują się dane w kolumnie `income_.50K` po konwersji:\n"
   ]
  },
  {
   "cell_type": "code",
   "execution_count": 47,
   "id": "abb95acb",
   "metadata": {},
   "outputs": [
    {
     "data": {
      "text/html": [
       "<table>\n",
       "<thead><tr><th scope=col>income_.50K</th></tr></thead>\n",
       "<tbody>\n",
       "\t<tr><td> TRUE</td></tr>\n",
       "\t<tr><td>FALSE</td></tr>\n",
       "\t<tr><td> TRUE</td></tr>\n",
       "\t<tr><td>FALSE</td></tr>\n",
       "\t<tr><td>FALSE</td></tr>\n",
       "\t<tr><td>FALSE</td></tr>\n",
       "\t<tr><td>FALSE</td></tr>\n",
       "\t<tr><td>FALSE</td></tr>\n",
       "\t<tr><td>FALSE</td></tr>\n",
       "\t<tr><td> TRUE</td></tr>\n",
       "</tbody>\n",
       "</table>\n"
      ],
      "text/latex": [
       "\\begin{tabular}{r|l}\n",
       " income\\_.50K\\\\\n",
       "\\hline\n",
       "\t  TRUE\\\\\n",
       "\t FALSE\\\\\n",
       "\t  TRUE\\\\\n",
       "\t FALSE\\\\\n",
       "\t FALSE\\\\\n",
       "\t FALSE\\\\\n",
       "\t FALSE\\\\\n",
       "\t FALSE\\\\\n",
       "\t FALSE\\\\\n",
       "\t  TRUE\\\\\n",
       "\\end{tabular}\n"
      ],
      "text/markdown": [
       "\n",
       "| income_.50K |\n",
       "|---|\n",
       "|  TRUE |\n",
       "| FALSE |\n",
       "|  TRUE |\n",
       "| FALSE |\n",
       "| FALSE |\n",
       "| FALSE |\n",
       "| FALSE |\n",
       "| FALSE |\n",
       "| FALSE |\n",
       "|  TRUE |\n",
       "\n"
      ],
      "text/plain": [
       "   income_.50K\n",
       "1   TRUE      \n",
       "2  FALSE      \n",
       "3   TRUE      \n",
       "4  FALSE      \n",
       "5  FALSE      \n",
       "6  FALSE      \n",
       "7  FALSE      \n",
       "8  FALSE      \n",
       "9  FALSE      \n",
       "10  TRUE      "
      ]
     },
     "metadata": {},
     "output_type": "display_data"
    }
   ],
   "source": [
    "head(df_income['income_.50K'], n=10)"
   ]
  },
  {
   "cell_type": "markdown",
   "id": "920f4609",
   "metadata": {},
   "source": [
    "# Podstawowe statystyki:"
   ]
  },
  {
   "cell_type": "code",
   "execution_count": 54,
   "id": "9ef66a7f",
   "metadata": {},
   "outputs": [
    {
     "name": "stdout",
     "output_type": "stream",
     "text": [
      "[1] \"Minimalna wartość lat nauki dla całego zbioru:\"\n"
     ]
    },
    {
     "data": {
      "text/html": [
       "1"
      ],
      "text/latex": [
       "1"
      ],
      "text/markdown": [
       "1"
      ],
      "text/plain": [
       "[1] 1"
      ]
     },
     "metadata": {},
     "output_type": "display_data"
    },
    {
     "name": "stdout",
     "output_type": "stream",
     "text": [
      "[1] \"Maksymalna wartość lat nauki dla całego zbioru:\"\n"
     ]
    },
    {
     "data": {
      "text/html": [
       "16"
      ],
      "text/latex": [
       "16"
      ],
      "text/markdown": [
       "16"
      ],
      "text/plain": [
       "[1] 16"
      ]
     },
     "metadata": {},
     "output_type": "display_data"
    }
   ],
   "source": [
    "print(\"Minimalna wartość lat nauki dla całego zbioru:\")\n",
    "min(df_income$educational.num)\n",
    "\n",
    "print(\"Maksymalna wartość lat nauki dla całego zbioru:\")\n",
    "max(df_income$educational.num)"
   ]
  },
  {
   "cell_type": "code",
   "execution_count": 63,
   "id": "3b9ecb10",
   "metadata": {},
   "outputs": [
    {
     "name": "stdout",
     "output_type": "stream",
     "text": [
      "[1] \"Mediana ilości przepracowanych godzin w tygodniu dla całego zbioru:\"\n"
     ]
    },
    {
     "data": {
      "text/html": [
       "40"
      ],
      "text/latex": [
       "40"
      ],
      "text/markdown": [
       "40"
      ],
      "text/plain": [
       "[1] 40"
      ]
     },
     "metadata": {},
     "output_type": "display_data"
    }
   ],
   "source": [
    "print(\"Mediana ilości przepracowanych godzin w tygodniu dla całego zbioru:\")\n",
    "median(df_income$hours.per.week, na.rm=TRUE)"
   ]
  },
  {
   "cell_type": "code",
   "execution_count": 75,
   "id": "2be70a32",
   "metadata": {},
   "outputs": [
    {
     "name": "stdout",
     "output_type": "stream",
     "text": [
      "[1] \"Średni zysk kapitałowy osób zarabiających powyżej 50 000: \"\n"
     ]
    },
    {
     "data": {
      "text/html": [
       "4108.08"
      ],
      "text/latex": [
       "4108.08"
      ],
      "text/markdown": [
       "4108.08"
      ],
      "text/plain": [
       "[1] 4108.08"
      ]
     },
     "metadata": {},
     "output_type": "display_data"
    }
   ],
   "source": [
    "print(\"Średni zysk kapitałowy osób zarabiających powyżej 50 000: \")\n",
    "round(mean(df_income[df_income$income_.50K == TRUE, 'capital.gain']), digits = 2)"
   ]
  },
  {
   "cell_type": "code",
   "execution_count": 76,
   "id": "26342cdf",
   "metadata": {},
   "outputs": [
    {
     "name": "stdout",
     "output_type": "stream",
     "text": [
      "[1] \"Średnia zysk kapitałowy osób zarabiających PONIŻEJ 50 000: \"\n"
     ]
    },
    {
     "data": {
      "text/html": [
       "145.36"
      ],
      "text/latex": [
       "145.36"
      ],
      "text/markdown": [
       "145.36"
      ],
      "text/plain": [
       "[1] 145.36"
      ]
     },
     "metadata": {},
     "output_type": "display_data"
    }
   ],
   "source": [
    "print(\"Średnia zysk kapitałowy osób zarabiających PONIŻEJ 50 000: \")\n",
    "round(mean(df_income[df_income$income_.50K == FALSE, 'capital.gain']), digits = 2)"
   ]
  },
  {
   "cell_type": "code",
   "execution_count": 85,
   "id": "5c54cee9",
   "metadata": {},
   "outputs": [
    {
     "name": "stdout",
     "output_type": "stream",
     "text": [
      "[1] \"Minimalny i maksymalny wiek osoby zarabiającej powyżej 50 000:\"\n"
     ]
    },
    {
     "data": {
      "text/html": [
       "<ol class=list-inline>\n",
       "\t<li>19</li>\n",
       "\t<li>90</li>\n",
       "</ol>\n"
      ],
      "text/latex": [
       "\\begin{enumerate*}\n",
       "\\item 19\n",
       "\\item 90\n",
       "\\end{enumerate*}\n"
      ],
      "text/markdown": [
       "1. 19\n",
       "2. 90\n",
       "\n",
       "\n"
      ],
      "text/plain": [
       "[1] 19 90"
      ]
     },
     "metadata": {},
     "output_type": "display_data"
    }
   ],
   "source": [
    "print(\"Minimalny i maksymalny wiek osoby zarabiającej powyżej 50 000:\")\n",
    "min_max_age <- c(min(df_income[df_income$income_.50K == TRUE, 'age']), max(df_income[df_income$income_.50K == TRUE, 'age']))\n",
    "min_max_age"
   ]
  },
  {
   "cell_type": "markdown",
   "id": "73db6dc5",
   "metadata": {},
   "source": [
    "### Wykres kołowy przedstawiający podział całego zbioru danych ze względu na płeć "
   ]
  },
  {
   "cell_type": "code",
   "execution_count": 102,
   "id": "d5e4e43a",
   "metadata": {},
   "outputs": [],
   "source": [
    "gender = df_income %>% count(gender)"
   ]
  },
  {
   "cell_type": "code",
   "execution_count": 117,
   "id": "f19d44cc",
   "metadata": {},
   "outputs": [
    {
     "data": {
      "image/png": "[encoded data removed]",
      "text/plain": [
       "Plot with title \"Procentowy podział zbioru danych ze względu na płeć:\""
      ]
     },
     "metadata": {},
     "output_type": "display_data"
    }
   ],
   "source": [
    "colors = c(\"#fd79a8\", \"#0984e3\")\n",
    "percentage <- paste(round(100*gender$n/sum(gender$n), 2), '%')\n",
    "\n",
    "pie(gender$n, labels = percentage, main=\"Procentowy podział zbioru danych ze względu na płeć:\", col=colors)\n",
    "legend(\"topright\", c(\"Female\",\"Male\"), cex = 0.8, fill=colors)"
   ]
  },
  {
   "cell_type": "code",
   "execution_count": 119,
   "id": "2d6afccb",
   "metadata": {},
   "outputs": [],
   "source": [
    "race = df_income %>%\n",
    "count(race)"
   ]
  },
  {
   "cell_type": "markdown",
   "id": "a3cf42be",
   "metadata": {},
   "source": [
    "### Wykres kołowy przedstawiający podział całego zbioru danych ze względu na rasę\n"
   ]
  },
  {
   "cell_type": "code",
   "execution_count": 146,
   "id": "b8e6af30",
   "metadata": {},
   "outputs": [
    {
     "data": {
      "image/png": "[encoded data removed]",
      "text/plain": [
       "Plot with title \"Procentowy podział zbioru danych ze względu na rasę:\""
      ]
     },
     "metadata": {},
     "output_type": "display_data"
    }
   ],
   "source": [
    "colors=c('#67e6dc', '#fff200', '#ff9f1a', '#ced6e0', '#3ae374')\n",
    "percentage <- paste(round(100*race$n/sum(race$n), 2), \"%\")\n",
    "\n",
    "pie(race$n, labels = percentage, main=\"Procentowy podział zbioru danych ze względu na rasę:\", col = colors)\n",
    "legend(\"topleft\", levels(df_income$race), cex = 0.7, fill = colors)"
   ]
  },
  {
   "cell_type": "markdown",
   "id": "3aa7c4d5",
   "metadata": {},
   "source": [
    "### Wykres słupkowy przedstawiający podział  całego zbioru ze względu na wiek\n",
    "**Rozróżniliśmy 5 grup wiekowych:**\n",
    "- 17 do 25 lat\n",
    "- 26 do 35 lat\n",
    "- 36 do 50 lat\n",
    "- 51 do 68 lat\n",
    "- oraz 68 i więcej"
   ]
  },
  {
   "cell_type": "code",
   "execution_count": 160,
   "id": "c1d6b030",
   "metadata": {},
   "outputs": [],
   "source": [
    "numbers <- c()\n",
    "\n",
    "open_age <- c(17,26,36,51)\n",
    "close_age <- c(25,35,50,68)\n",
    "age_ranges <- c(\"17-25 lat\",\"26-35 lat\",\"36-50 lat\",\"51-68 lat\",\"68+ lat\")\n",
    "\n",
    "for(i in 1:length(open_age)){\n",
    "    numbers <- append(x = numbers, values = count(filter(df_income, age>open_age[i] & age<close_age[i]))$n)\n",
    "}\n",
    "\n",
    "numbers <- append(x = numbers, values = count(filter(df_income, age>67))$n)"
   ]
  },
  {
   "cell_type": "code",
   "execution_count": 158,
   "id": "879e81bb",
   "metadata": {},
   "outputs": [
    {
     "data": {
      "image/png": "[encoded data removed]",
      "text/plain": [
       "plot without title"
      ]
     },
     "metadata": {},
     "output_type": "display_data"
    }
   ],
   "source": [
    "barplot(numbers, names.arg = age_ranges, col = \"#67e6dc\")"
   ]
  },
  {
   "cell_type": "markdown",
   "id": "1df001e4",
   "metadata": {},
   "source": [
    "# ============================================================"
   ]
  },
  {
   "cell_type": "markdown",
   "id": "065f5f1f",
   "metadata": {},
   "source": [
    "# Analizy pozwalające ustalić profil osoby mającej statystycznie największe szanse na zarobek powyżej 50 000 USD.\n"
   ]
  },
  {
   "cell_type": "markdown",
   "id": "40db6ebf",
   "metadata": {},
   "source": [
    "### Macierz przedstawiająca korelacje kolumn między sobą\n",
    "**Zbadajmy korelację kolumny Income>50k z pozostałymi, a by stwierdzić co ma największy wpływ na wysokie zarobki**\n",
    "\n",
    "Jak widać największy wpływ na wysokie zarobki ma wykształcenie, a potem wiek oraz ilość godzin pracy w ciągu tygodnia. Jednak współczynnik korelacji to tylko około 0.4, więc jest to jednak dość niska wartość"
   ]
  },
  {
   "cell_type": "code",
   "execution_count": 35,
   "id": "5e29642f",
   "metadata": {},
   "outputs": [
    {
     "name": "stdout",
     "output_type": "stream",
     "text": [
      "[1] \"zależność między przychodami a wiekiem:\"\n"
     ]
    },
    {
     "data": {
      "text/html": [
       "0.230987527778043"
      ],
      "text/latex": [
       "0.230987527778043"
      ],
      "text/markdown": [
       "0.230987527778043"
      ],
      "text/plain": [
       "[1] 0.2309875"
      ]
     },
     "metadata": {},
     "output_type": "display_data"
    },
    {
     "name": "stdout",
     "output_type": "stream",
     "text": [
      "[1] \"zależność między przychodami a wykształceniem:\"\n"
     ]
    },
    {
     "data": {
      "text/html": [
       "0.334034883814504"
      ],
      "text/latex": [
       "0.334034883814504"
      ],
      "text/markdown": [
       "0.334034883814504"
      ],
      "text/plain": [
       "[1] 0.3340349"
      ]
     },
     "metadata": {},
     "output_type": "display_data"
    },
    {
     "name": "stdout",
     "output_type": "stream",
     "text": [
      "[1] \"zależność między przychodami a wiekiem:\"\n"
     ]
    },
    {
     "data": {
      "text/html": [
       "0.227918121709384"
      ],
      "text/latex": [
       "0.227918121709384"
      ],
      "text/markdown": [
       "0.227918121709384"
      ],
      "text/plain": [
       "[1] 0.2279181"
      ]
     },
     "metadata": {},
     "output_type": "display_data"
    }
   ],
   "source": [
    "print(\"zależność między przychodami a wiekiem:\")\n",
    "cor(x = df_income$age, y = df_income$income_.50K)\n",
    "print(\"zależność między przychodami a wykształceniem:\")\n",
    "cor(x = df_income$educational.num, y = df_income$income_.50K)\n",
    "print(\"zależność między przychodami a wiekiem:\")\n",
    "cor(x = df_income$hours.per.week, y = df_income$income_.50K)"
   ]
  },
  {
   "cell_type": "code",
   "execution_count": 199,
   "id": "abaee8b9",
   "metadata": {},
   "outputs": [
    {
     "data": {
      "text/html": [
       "<table>\n",
       "<tbody>\n",
       "\t<tr><th scope=row>age</th><td> 0.2309875</td></tr>\n",
       "\t<tr><th scope=row>fnlwgt</th><td>-0.0068524</td></tr>\n",
       "\t<tr><th scope=row>educational.num</th><td> 0.3340349</td></tr>\n",
       "\t<tr><th scope=row>capital.gain</th><td> 0.2233247</td></tr>\n",
       "\t<tr><th scope=row>capital.loss</th><td> 0.1452502</td></tr>\n",
       "\t<tr><th scope=row>hours.per.week</th><td> 0.2279181</td></tr>\n",
       "</tbody>\n",
       "</table>\n"
      ],
      "text/latex": [
       "\\begin{tabular}{r|l}\n",
       "\tage &  0.2309875\\\\\n",
       "\tfnlwgt & -0.0068524\\\\\n",
       "\teducational.num &  0.3340349\\\\\n",
       "\tcapital.gain &  0.2233247\\\\\n",
       "\tcapital.loss &  0.1452502\\\\\n",
       "\thours.per.week &  0.2279181\\\\\n",
       "\\end{tabular}\n"
      ],
      "text/markdown": [
       "\n",
       "| age |  0.2309875 |\n",
       "| fnlwgt | -0.0068524 |\n",
       "| educational.num |  0.3340349 |\n",
       "| capital.gain |  0.2233247 |\n",
       "| capital.loss |  0.1452502 |\n",
       "| hours.per.week |  0.2279181 |\n",
       "\n"
      ],
      "text/plain": [
       "                [,1]      \n",
       "age              0.2309875\n",
       "fnlwgt          -0.0068524\n",
       "educational.num  0.3340349\n",
       "capital.gain     0.2233247\n",
       "capital.loss     0.1452502\n",
       "hours.per.week   0.2279181"
      ]
     },
     "metadata": {},
     "output_type": "display_data"
    }
   ],
   "source": [
    "x <- as.matrix(cor(x=df_income[sapply(df_income, class) == 'integer'], y=df_income$income_.50K))\n",
    "x"
   ]
  },
  {
   "cell_type": "markdown",
   "id": "79c6345a",
   "metadata": {},
   "source": [
    "### Wykres kołowy przedstawiający ilość osób zarabiających więcej niż 50 000 USD rocznie"
   ]
  },
  {
   "cell_type": "code",
   "execution_count": 201,
   "id": "5aeb388f",
   "metadata": {},
   "outputs": [
    {
     "data": {
      "text/html": [
       "<table>\n",
       "<thead><tr><th scope=col>income_.50K</th><th scope=col>n</th></tr></thead>\n",
       "<tbody>\n",
       "\t<tr><td>Mniej niż $50k </td><td>33439          </td></tr>\n",
       "\t<tr><td>Więcej niż $50k</td><td>10518          </td></tr>\n",
       "</tbody>\n",
       "</table>\n"
      ],
      "text/latex": [
       "\\begin{tabular}{r|ll}\n",
       " income\\_.50K & n\\\\\n",
       "\\hline\n",
       "\t Mniej niż \\$50k  & 33439            \\\\\n",
       "\t Więcej niż \\$50k & 10518            \\\\\n",
       "\\end{tabular}\n"
      ],
      "text/markdown": [
       "\n",
       "| income_.50K | n |\n",
       "|---|---|\n",
       "| Mniej niż $50k  | 33439           |\n",
       "| Więcej niż $50k | 10518           |\n",
       "\n"
      ],
      "text/plain": [
       "  income_.50K     n    \n",
       "1 Mniej niż $50k  33439\n",
       "2 Więcej niż $50k 10518"
      ]
     },
     "metadata": {},
     "output_type": "display_data"
    }
   ],
   "source": [
    "data = count(df_income, income_.50K)\n",
    "data[1, 1] <- \"Mniej niż $50k\"\n",
    "data[2, 1] <- \"Więcej niż $50k\"\n",
    "data"
   ]
  },
  {
   "cell_type": "code",
   "execution_count": 205,
   "id": "510267ca",
   "metadata": {},
   "outputs": [
    {
     "data": {
      "image/png": "[encoded data removed]",
      "text/plain": [
       "Plot with title \"Ilość osób zarabiających więcej niż 50 000 USD rocznie\""
      ]
     },
     "metadata": {},
     "output_type": "display_data"
    }
   ],
   "source": [
    "colors <- c('#ee5253', '#10ac84')\n",
    "\n",
    "percentage <- paste(round(100*data$n/sum(data$n), 2), \"%\")\n",
    "pie(data$n, labels = percentage, main=\"Ilość osób zarabiających więcej niż 50 000 USD rocznie\", col = colors)\n",
    "legend(\"topright\", c(\"Mniej niż $50k\",\"Więcej niż $50k\"), cex = 0.8,   fill = colors)\n",
    "\n"
   ]
  },
  {
   "cell_type": "markdown",
   "id": "8f38f3bf",
   "metadata": {},
   "source": [
    "## ========================================================================="
   ]
  },
  {
   "cell_type": "markdown",
   "id": "5ba7a61a",
   "metadata": {},
   "source": [
    "### Liczymy w jakiej korelacji są zmienne educational-num oraz income_>50K. W praktyce sprawdzamy jak duży wpływ ma ilość lat nauki na osiągnięcie przez daną jednostkę zarobków powyżej 50 000 USD\n"
   ]
  },
  {
   "cell_type": "code",
   "execution_count": 207,
   "id": "a508a56c",
   "metadata": {},
   "outputs": [
    {
     "data": {
      "text/html": [
       "0.33403"
      ],
      "text/latex": [
       "0.33403"
      ],
      "text/markdown": [
       "0.33403"
      ],
      "text/plain": [
       "[1] 0.33403"
      ]
     },
     "metadata": {},
     "output_type": "display_data"
    }
   ],
   "source": [
    "round(cor(x = df_income$educational.num, y = df_income$income_.50K), 5)"
   ]
  },
  {
   "cell_type": "markdown",
   "id": "258db0c6",
   "metadata": {},
   "source": [
    "\n",
    "### Stosujemy funkcję unique() aby zobaczyć jakie wartości znajdują się w kolumnie educational-num w celu dobrania odpowiednich zakresów oraz łatwiejszego ich podzielenia"
   ]
  },
  {
   "cell_type": "code",
   "execution_count": 293,
   "id": "ef4e246b",
   "metadata": {},
   "outputs": [
    {
     "data": {
      "text/html": [
       "<ol class=list-inline>\n",
       "\t<li>1</li>\n",
       "\t<li>5</li>\n",
       "\t<li>9</li>\n",
       "\t<li>13</li>\n",
       "</ol>\n"
      ],
      "text/latex": [
       "\\begin{enumerate*}\n",
       "\\item 1\n",
       "\\item 5\n",
       "\\item 9\n",
       "\\item 13\n",
       "\\end{enumerate*}\n"
      ],
      "text/markdown": [
       "1. 1\n",
       "2. 5\n",
       "3. 9\n",
       "4. 13\n",
       "\n",
       "\n"
      ],
      "text/plain": [
       "[1]  1  5  9 13"
      ]
     },
     "metadata": {},
     "output_type": "display_data"
    }
   ],
   "source": [
    "educational_num_ranges <- seq(min(uniq_age_values), max(uniq_age_values), by=4)\n",
    "educational_num_ranges"
   ]
  },
  {
   "cell_type": "markdown",
   "id": "276069c2",
   "metadata": {},
   "source": [
    "### Na podstawie powyższych danych przyjmujemy podział na 4 grupy:\n",
    "- 1 do 5 lat\n",
    "- 5 do 9 lat\n",
    "- 9 do 13 lat\n",
    "- 13 lat i więcej"
   ]
  },
  {
   "cell_type": "code",
   "execution_count": 305,
   "id": "aa460df8",
   "metadata": {
    "scrolled": false
   },
   "outputs": [
    {
     "data": {
      "text/html": [
       "<table>\n",
       "<thead><tr><th scope=col>educational_num_values</th></tr></thead>\n",
       "<tbody>\n",
       "\t<tr><td> 128</td></tr>\n",
       "\t<tr><td>2471</td></tr>\n",
       "\t<tr><td>7917</td></tr>\n",
       "\t<tr><td>5252</td></tr>\n",
       "</tbody>\n",
       "</table>\n"
      ],
      "text/latex": [
       "\\begin{tabular}{r|l}\n",
       " educational\\_num\\_values\\\\\n",
       "\\hline\n",
       "\t  128\\\\\n",
       "\t 2471\\\\\n",
       "\t 7917\\\\\n",
       "\t 5252\\\\\n",
       "\\end{tabular}\n"
      ],
      "text/markdown": [
       "\n",
       "| educational_num_values |\n",
       "|---|\n",
       "|  128 |\n",
       "| 2471 |\n",
       "| 7917 |\n",
       "| 5252 |\n",
       "\n"
      ],
      "text/plain": [
       "  educational_num_values\n",
       "1  128                  \n",
       "2 2471                  \n",
       "3 7917                  \n",
       "4 5252                  "
      ]
     },
     "metadata": {},
     "output_type": "display_data"
    },
    {
     "data": {
      "image/png": "[encoded data removed]",
      "text/plain": [
       "plot without title"
      ]
     },
     "metadata": {},
     "output_type": "display_data"
    }
   ],
   "source": [
    "educational_num_values <- c()\n",
    "uniq_educational_num_values <- unique(df_income$educational.num)\n",
    "educational_num_ranges_desc <- c(\"1 do 5 lat\", \"5 do 9 lat\",\"9 do 13 lat\", \"13 lat i więcej\")\n",
    "\n",
    "educational_num_values <- append(educational_num_values, values=count(as.data.frame(df_income[df_income$income_.50K == TRUE & df_income$educational.num >= educational_num_ranges[1]  & df_income$educational.num <= educational_num_ranges[2], 'educational.num']))$n) \n",
    "educational_num_values <-  append(educational_num_values, values=count(as.data.frame(df_income[df_income$income_.50K == TRUE & df_income$educational.num >= educational_num_ranges[2]  & df_income$educational.num <= educational_num_ranges[3], 'educational.num']))$n) \n",
    "educational_num_values <-  append(educational_num_values, values=count(as.data.frame(df_income[df_income$income_.50K == TRUE & df_income$educational.num >= educational_num_ranges[3]  & df_income$educational.num <= educational_num_ranges[4], 'educational.num']))$n) \n",
    "educational_num_values <-  append(educational_num_values, values=count(as.data.frame(df_income[df_income$income_.50K == TRUE & df_income$educational.num >= educational_num_ranges[4], 'educational.num']))$n) \n",
    "as.data.frame(educational_num_values)\n",
    "barplot(educational_num_values, names.arg = educational_num_ranges_desc, col = \"#303952\")"
   ]
  },
  {
   "cell_type": "markdown",
   "id": "078e9c96",
   "metadata": {},
   "source": [
    "# !!!!!!!!!!!!!!!!!!!"
   ]
  },
  {
   "cell_type": "markdown",
   "id": "405fee95",
   "metadata": {},
   "source": [
    "# TODO DOROBIĆ POZOSTAŁE WYKRESY JAK W PYTHONIE"
   ]
  },
  {
   "cell_type": "markdown",
   "id": "6c09c7c2",
   "metadata": {},
   "source": [
    "# !!!!!!!!!!!!!!!!!!!"
   ]
  },
  {
   "cell_type": "markdown",
   "id": "b4fdeca3",
   "metadata": {},
   "source": [
    "### Wykres kołowy dzielący zbiór osób zarabiających POWYŻEJ 50 000 ze względu na wykonywany zawód"
   ]
  },
  {
   "cell_type": "code",
   "execution_count": 62,
   "id": "b22fbe44",
   "metadata": {},
   "outputs": [
    {
     "data": {
      "image/png": "[encoded data removed]",
      "text/plain": [
       "plot without title"
      ]
     },
     "metadata": {},
     "output_type": "display_data"
    }
   ],
   "source": [
    "only_over_50k = filter(df_income, df_income$income_.50K > 0)\n",
    "gender_with_more_than_50k = count(only_over_50k, gender)\n",
    "pie(gender_with_more_than_50k$n, gender_with_more_than_50k$gender)"
   ]
  },
  {
   "cell_type": "markdown",
   "id": "aa18e3a8",
   "metadata": {},
   "source": [
    "### Wykres słupkowy przedstawiający podział  osób z przychodem powyżej 50k ze względu na wiek\n",
    "**Tak jak poprzednio w celu analizy rozróżniliśmy 5 grup wiekowych:**\n",
    "- 17 do 25 lat\n",
    "- 26 do 35 lat\n",
    "- 36 do 50 lat\n",
    "- 51 do 68 lat\n",
    "- oraz 68 i więcej"
   ]
  },
  {
   "cell_type": "code",
   "execution_count": 22,
   "id": "ff89b67d",
   "metadata": {},
   "outputs": [],
   "source": [
    "numbers <- c()\n",
    "open_age <- c(17,26,36,51)\n",
    "close_age <- c(25,35,50,68)\n",
    "age_ranges <- c(\"17-25 lat\",\"26-35 lat\",\"36-50 lat\",\"51-68 lat\",\"68+ lat\")\n",
    "for(i in 1:length(open_age)){\n",
    "    numbers <- append(x = numbers, values = count(filter(only_over_50k, age>open_age[i] & age<close_age[i]))$n)\n",
    "}\n",
    "numbers <- append(x = numbers, values = count(filter(only_over_50k, age>67))$n)"
   ]
  },
  {
   "cell_type": "code",
   "execution_count": 23,
   "id": "e746bda2",
   "metadata": {},
   "outputs": [
    {
     "data": {
      "image/png": "[encoded data removed]",
      "text/plain": [
       "plot without title"
      ]
     },
     "metadata": {},
     "output_type": "display_data"
    }
   ],
   "source": [
    "barplot(numbers, names.arg = age_ranges, col = \"green\")"
   ]
  },
  {
   "cell_type": "markdown",
   "id": "325a38ba",
   "metadata": {},
   "source": [
    "## Analiza czasu pracy a zarobków\n",
    "### Na tym wykresie przedstawiony mamy procentowy udział osób pracujących w poszczególnych zakresach godzinowych w tygodniu\n",
    "\n",
    "**Na wykresie mamy wyraźnie przedstawione,że to właśnie osoby pracujące ponad 1 etat mają nawiększą szanse zarobić ponad $50k** "
   ]
  },
  {
   "cell_type": "code",
   "execution_count": 24,
   "id": "3333c7d6",
   "metadata": {},
   "outputs": [],
   "source": [
    "numbers <- c()\n",
    "hours <- c(0,20,40,60)\n",
    "age_ranges <- c(\"0-20 h/week\",\"21-40 h/week\",\"40-60 h/week\",\"61+/week\")\n",
    "for(i in 1:(length(hours)-1)){\n",
    "    numbers <- append(x = numbers, values = count(filter(only_over_50k, hours.per.week>hours[i] & hours.per.week<hours[i+1]))$n)\n",
    "}\n",
    "numbers <- append(x = numbers, values = count(filter(only_over_50k, hours.per.week>80))$n)"
   ]
  },
  {
   "cell_type": "code",
   "execution_count": 25,
   "id": "ea4cc555",
   "metadata": {},
   "outputs": [
    {
     "data": {
      "text/html": [
       "<ol class=list-inline>\n",
       "\t<li>171</li>\n",
       "\t<li>723</li>\n",
       "\t<li>3779</li>\n",
       "\t<li>95</li>\n",
       "</ol>\n"
      ],
      "text/latex": [
       "\\begin{enumerate*}\n",
       "\\item 171\n",
       "\\item 723\n",
       "\\item 3779\n",
       "\\item 95\n",
       "\\end{enumerate*}\n"
      ],
      "text/markdown": [
       "1. 171\n",
       "2. 723\n",
       "3. 3779\n",
       "4. 95\n",
       "\n",
       "\n"
      ],
      "text/plain": [
       "[1]  171  723 3779   95"
      ]
     },
     "metadata": {},
     "output_type": "display_data"
    }
   ],
   "source": [
    "numbers"
   ]
  },
  {
   "cell_type": "code",
   "execution_count": 26,
   "id": "8804d8c7",
   "metadata": {},
   "outputs": [
    {
     "data": {
      "image/png": "[encoded data removed]",
      "text/plain": [
       "plot without title"
      ]
     },
     "metadata": {},
     "output_type": "display_data"
    }
   ],
   "source": [
    "plot(numbers, type=\"o\")"
   ]
  },
  {
   "cell_type": "code",
   "execution_count": null,
   "id": "a51abd46",
   "metadata": {},
   "outputs": [],
   "source": []
  },
  {
   "cell_type": "code",
   "execution_count": null,
   "id": "1765938a",
   "metadata": {},
   "outputs": [],
   "source": []
  },
  {
   "cell_type": "code",
   "execution_count": null,
   "id": "2e29acdb",
   "metadata": {},
   "outputs": [],
   "source": []
  }
 ],
 "metadata": {
  "kernelspec": {
   "display_name": "R",
   "language": "R",
   "name": "ir"
  },
  "language_info": {
   "codemirror_mode": "r",
   "file_extension": ".r",
   "mimetype": "text/x-r-source",
   "name": "R",
   "pygments_lexer": "r",
   "version": "3.6.1"
  }
 },
 "nbformat": 4,
 "nbformat_minor": 5
}
